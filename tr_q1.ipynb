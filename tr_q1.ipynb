{
 "cells": [
  {
   "cell_type": "code",
   "execution_count": 73,
   "metadata": {},
   "outputs": [],
   "source": [
    "import pandas as pd\n",
    "import zipfile\n",
    "import os\n",
    "import matplotlib.pyplot as plt\n",
    "from typing import Dict"
   ]
  },
  {
   "cell_type": "markdown",
   "metadata": {},
   "source": [
    "### Read files"
   ]
  },
  {
   "cell_type": "code",
   "execution_count": 74,
   "metadata": {},
   "outputs": [],
   "source": [
    "file_path = 'TRDataChallenge2023.zip'\n",
    "extract_file_path = 'TRDataChallenge2023'"
   ]
  },
  {
   "cell_type": "code",
   "execution_count": 75,
   "metadata": {},
   "outputs": [],
   "source": [
    "with zipfile.ZipFile(file_path,\"r\") as zip_ref:\n",
    "    zip_ref.extractall(extract_file_path)"
   ]
  },
  {
   "cell_type": "code",
   "execution_count": 76,
   "metadata": {},
   "outputs": [
    {
     "data": {
      "text/plain": [
       "'TRDataChallenge2023\\\\TRDataChallenge2023.txt'"
      ]
     },
     "execution_count": 76,
     "metadata": {},
     "output_type": "execute_result"
    }
   ],
   "source": [
    "os.path.join(extract_file_path, f\"{extract_file_path}.txt\")"
   ]
  },
  {
   "cell_type": "code",
   "execution_count": 77,
   "metadata": {},
   "outputs": [],
   "source": [
    "df = pd.read_json(os.path.join(extract_file_path, f\"{extract_file_path}.txt\"), lines=True)"
   ]
  },
  {
   "cell_type": "markdown",
   "metadata": {},
   "source": [
    "### EDA"
   ]
  },
  {
   "cell_type": "code",
   "execution_count": 78,
   "metadata": {},
   "outputs": [
    {
     "data": {
      "text/plain": [
       "documentId    0\n",
       "postures      0\n",
       "sections      0\n",
       "dtype: int64"
      ]
     },
     "execution_count": 78,
     "metadata": {},
     "output_type": "execute_result"
    }
   ],
   "source": [
    "df.isna().sum()"
   ]
  },
  {
   "cell_type": "code",
   "execution_count": 79,
   "metadata": {},
   "outputs": [
    {
     "data": {
      "text/html": [
       "<div>\n",
       "<style scoped>\n",
       "    .dataframe tbody tr th:only-of-type {\n",
       "        vertical-align: middle;\n",
       "    }\n",
       "\n",
       "    .dataframe tbody tr th {\n",
       "        vertical-align: top;\n",
       "    }\n",
       "\n",
       "    .dataframe thead th {\n",
       "        text-align: right;\n",
       "    }\n",
       "</style>\n",
       "<table border=\"1\" class=\"dataframe\">\n",
       "  <thead>\n",
       "    <tr style=\"text-align: right;\">\n",
       "      <th></th>\n",
       "      <th>documentId</th>\n",
       "      <th>postures</th>\n",
       "      <th>sections</th>\n",
       "    </tr>\n",
       "  </thead>\n",
       "  <tbody>\n",
       "    <tr>\n",
       "      <th>0</th>\n",
       "      <td>Ib4e590e0a55f11e8a5d58a2c8dcb28b5</td>\n",
       "      <td>[On Appeal]</td>\n",
       "      <td>[{'headtext': '', 'paragraphs': ['Plaintiff Dw...</td>\n",
       "    </tr>\n",
       "    <tr>\n",
       "      <th>1</th>\n",
       "      <td>Ib06ab4d056a011e98c7a8e995225dbf9</td>\n",
       "      <td>[Appellate Review, Sentencing or Penalty Phase...</td>\n",
       "      <td>[{'headtext': '', 'paragraphs': ['After pleadi...</td>\n",
       "    </tr>\n",
       "    <tr>\n",
       "      <th>2</th>\n",
       "      <td>Iaa3e3390b93111e9ba33b03ae9101fb2</td>\n",
       "      <td>[Motion to Compel Arbitration, On Appeal]</td>\n",
       "      <td>[{'headtext': '', 'paragraphs': ['Frederick Gr...</td>\n",
       "    </tr>\n",
       "    <tr>\n",
       "      <th>3</th>\n",
       "      <td>I0d4dffc381b711e280719c3f0e80bdd0</td>\n",
       "      <td>[On Appeal, Review of Administrative Decision]</td>\n",
       "      <td>[{'headtext': '', 'paragraphs': ['Appeal from ...</td>\n",
       "    </tr>\n",
       "    <tr>\n",
       "      <th>4</th>\n",
       "      <td>I82c7ef10d6d111e8aec5b23c3317c9c0</td>\n",
       "      <td>[On Appeal]</td>\n",
       "      <td>[{'headtext': '', 'paragraphs': ['Order, Supre...</td>\n",
       "    </tr>\n",
       "  </tbody>\n",
       "</table>\n",
       "</div>"
      ],
      "text/plain": [
       "                          documentId  \\\n",
       "0  Ib4e590e0a55f11e8a5d58a2c8dcb28b5   \n",
       "1  Ib06ab4d056a011e98c7a8e995225dbf9   \n",
       "2  Iaa3e3390b93111e9ba33b03ae9101fb2   \n",
       "3  I0d4dffc381b711e280719c3f0e80bdd0   \n",
       "4  I82c7ef10d6d111e8aec5b23c3317c9c0   \n",
       "\n",
       "                                            postures  \\\n",
       "0                                        [On Appeal]   \n",
       "1  [Appellate Review, Sentencing or Penalty Phase...   \n",
       "2          [Motion to Compel Arbitration, On Appeal]   \n",
       "3     [On Appeal, Review of Administrative Decision]   \n",
       "4                                        [On Appeal]   \n",
       "\n",
       "                                            sections  \n",
       "0  [{'headtext': '', 'paragraphs': ['Plaintiff Dw...  \n",
       "1  [{'headtext': '', 'paragraphs': ['After pleadi...  \n",
       "2  [{'headtext': '', 'paragraphs': ['Frederick Gr...  \n",
       "3  [{'headtext': '', 'paragraphs': ['Appeal from ...  \n",
       "4  [{'headtext': '', 'paragraphs': ['Order, Supre...  "
      ]
     },
     "execution_count": 79,
     "metadata": {},
     "output_type": "execute_result"
    }
   ],
   "source": [
    "df.head()"
   ]
  },
  {
   "cell_type": "code",
   "execution_count": 80,
   "metadata": {},
   "outputs": [],
   "source": [
    "# Number of postures per case\n",
    "df['len_postures'] = df['postures'].map(len)"
   ]
  },
  {
   "cell_type": "code",
   "execution_count": 82,
   "metadata": {},
   "outputs": [],
   "source": [
    "# Number of paragraphs per case\n",
    "def count_paragrapth(sections: Dict) -> int:\n",
    "    \"\"\"\n",
    "    Counts the total number of paragraphs across multiple sections.\n",
    "\n",
    "    Parameters:\n",
    "        sections (dict): A dictionary containing sections, where each section\n",
    "            is represented by a dictionary with 'paragraphs' as a key. Each\n",
    "            'paragraphs' value is expected to be an iterable containing\n",
    "            paragraphs.\n",
    "\n",
    "    Returns:\n",
    "        int: The total number of paragraphs found in all sections.\n",
    "    \"\"\"\n",
    "    num_paragraphs = 0\n",
    "    for section in sections:\n",
    "        # print(len(section['paragraphs']))\n",
    "        num_paragraphs += len(section['paragraphs'])\n",
    "        # print(section['paragraphs'])\n",
    "    return num_paragraphs\n",
    "\n",
    "df[\"len_paragraphs\"] = df['sections'].map(count_paragrapth)"
   ]
  },
  {
   "cell_type": "markdown",
   "metadata": {},
   "source": [
    "### Answer"
   ]
  },
  {
   "cell_type": "code",
   "execution_count": 83,
   "metadata": {},
   "outputs": [
    {
     "name": "stdout",
     "output_type": "stream",
     "text": [
      "Num documents: 18000\n",
      "Number of postures are calculated per case in the column \"len_postures\", printing the value counts of each length\n"
     ]
    },
    {
     "data": {
      "text/plain": [
       "len_postures\n",
       "1    8118\n",
       "2    7604\n",
       "3    1129\n",
       "0     923\n",
       "4     190\n",
       "5      32\n",
       "7       2\n",
       "6       2\n",
       "Name: count, dtype: int64"
      ]
     },
     "execution_count": 83,
     "metadata": {},
     "output_type": "execute_result"
    }
   ],
   "source": [
    "print(f\"Num documents: {len(df)}\")\n",
    "print(f'Number of postures are calculated per case in the column \"len_postures\", printing the value counts of each length')\n",
    "df['len_postures'].value_counts()"
   ]
  },
  {
   "cell_type": "code",
   "execution_count": 84,
   "metadata": {},
   "outputs": [
    {
     "name": "stdout",
     "output_type": "stream",
     "text": [
      "Number of paragraphs are calculated per case in the column \"len_paragraphs\", printing the value counts of each length\n"
     ]
    },
    {
     "data": {
      "text/plain": [
       "len_paragraphs\n",
       "6      921\n",
       "5      911\n",
       "4      801\n",
       "7      713\n",
       "8      594\n",
       "      ... \n",
       "227      1\n",
       "414      1\n",
       "269      1\n",
       "173      1\n",
       "320      1\n",
       "Name: count, Length: 255, dtype: int64"
      ]
     },
     "execution_count": 84,
     "metadata": {},
     "output_type": "execute_result"
    }
   ],
   "source": [
    "print(f'Number of paragraphs are calculated per case in the column \"len_paragraphs\", printing the value counts of each length')\n",
    "df['len_paragraphs'].value_counts()"
   ]
  },
  {
   "cell_type": "code",
   "execution_count": 112,
   "metadata": {},
   "outputs": [
    {
     "data": {
      "text/plain": [
       "count    18000.00000\n",
       "mean        30.12050\n",
       "std         34.08201\n",
       "min          0.00000\n",
       "25%          8.00000\n",
       "50%         21.00000\n",
       "75%         40.00000\n",
       "max       1174.00000\n",
       "Name: len_paragraphs, dtype: float64"
      ]
     },
     "execution_count": 112,
     "metadata": {},
     "output_type": "execute_result"
    }
   ],
   "source": [
    "df['len_paragraphs'].describe()"
   ]
  },
  {
   "cell_type": "code",
   "execution_count": 107,
   "metadata": {},
   "outputs": [
    {
     "data": {
      "text/plain": [
       "<Axes: ylabel='Frequency'>"
      ]
     },
     "execution_count": 107,
     "metadata": {},
     "output_type": "execute_result"
    },
    {
     "data": {
      "image/png": "[encoded data removed]",
      "text/plain": [
       "<Figure size 640x480 with 1 Axes>"
      ]
     },
     "metadata": {},
     "output_type": "display_data"
    }
   ],
   "source": [
    "df['len_paragraphs'].plot.hist(bins=np.arange(1175), logy=True)\n"
   ]
  },
  {
   "cell_type": "code",
   "execution_count": 135,
   "metadata": {},
   "outputs": [],
   "source": [
    "all_labels = np.concatenate(df['postures'].values)\n",
    "count_dict= dict(zip(*np.unique(all_labels, return_counts=True)))"
   ]
  },
  {
   "cell_type": "code",
   "execution_count": 136,
   "metadata": {},
   "outputs": [
    {
     "data": {
      "text/plain": [
       "{'Appellate Review': 4652,\n",
       " \"Application for Attorneys' or Professional Fees and Expenses\": 15,\n",
       " 'Application for Bankruptcy Trustee Fees': 1,\n",
       " 'Application to Employ Attorney or Other Professional': 7,\n",
       " 'Application to Vacate Arbitration Award': 54,\n",
       " 'Bail or Custody Motion': 49,\n",
       " 'Certified Question': 72,\n",
       " 'Declinatory Exception of Improper Venue': 1,\n",
       " 'Declinatory Exception of Insufficiency of Service of Process': 1,\n",
       " 'Declinatory Exception of Lack of Personal Jurisdiction': 1,\n",
       " 'Declinatory Exception of Lack of Subject Matter Jurisdiction': 3,\n",
       " 'Declinatory Exception of Lis Pendens': 2,\n",
       " 'Dilatory Exception of Unauthorized Use of Summary Proceeding': 1,\n",
       " 'Joinder': 1,\n",
       " 'Jury Selection Challenge or Motion': 84,\n",
       " 'Juvenile Delinquency Proceeding': 146,\n",
       " 'Juvenile Wardship Petition': 3,\n",
       " 'Motion Authorizing and Approving Payment of Certain Prepetition Obligations': 1,\n",
       " 'Motion For Turnover': 7,\n",
       " 'Motion for Abandonment of Property': 1,\n",
       " 'Motion for Abatement': 3,\n",
       " 'Motion for Additional Discovery': 21,\n",
       " 'Motion for Additur': 4,\n",
       " 'Motion for Adequate Protection': 1,\n",
       " 'Motion for Appeal Bond': 2,\n",
       " 'Motion for Appointment of Guardian ad Litem': 2,\n",
       " 'Motion for Appointment of an Expert': 1,\n",
       " 'Motion for Approval of Consent Judgment': 3,\n",
       " \"Motion for Attorney's Fees\": 612,\n",
       " 'Motion for Bond': 2,\n",
       " 'Motion for Claim Construction': 3,\n",
       " 'Motion for Collateral Estoppel': 5,\n",
       " 'Motion for Competency or Mental Health Evaluation': 3,\n",
       " 'Motion for Contempt': 116,\n",
       " 'Motion for Contempt Sanctions': 22,\n",
       " 'Motion for Contempt for Violating Discharge Injunction or Order': 1,\n",
       " 'Motion for Continuance': 37,\n",
       " 'Motion for Costs': 168,\n",
       " 'Motion for Default Judgment/Order of Default': 143,\n",
       " 'Motion for Demurrer': 9,\n",
       " 'Motion for Disbursement or Release of Funds': 10,\n",
       " 'Motion for Discovery Sanctions': 6,\n",
       " 'Motion for Entry of Discharge': 3,\n",
       " 'Motion for Equitable Tolling': 5,\n",
       " 'Motion for Evidentiary Hearing': 6,\n",
       " 'Motion for Examination of Entity or Debtor': 3,\n",
       " 'Motion for Extension of Time': 56,\n",
       " 'Motion for Genetic Testing': 1,\n",
       " 'Motion for In Camera Review': 3,\n",
       " 'Motion for Independent Medical Examination (IME)': 5,\n",
       " 'Motion for Involuntary Dismissal': 33,\n",
       " 'Motion for Joint Custody': 3,\n",
       " 'Motion for Judgment as a Matter of Law (JMOL)/Directed Verdict': 212,\n",
       " 'Motion for Judgment on Administrative Record': 12,\n",
       " 'Motion for Judgment on Partial Findings': 5,\n",
       " 'Motion for Leave to File Late or Untimely Notice of Appeal': 1,\n",
       " 'Motion for Leave to File under Seal': 2,\n",
       " 'Motion for Maritime Attachment and Garnishment': 1,\n",
       " 'Motion for New Trial': 226,\n",
       " 'Motion for Non-Suit': 7,\n",
       " 'Motion for Permanent Injunction': 108,\n",
       " 'Motion for Physical or Mental Examination': 6,\n",
       " 'Motion for Post-Judgment Interest': 4,\n",
       " 'Motion for Prejudgment Interest': 12,\n",
       " 'Motion for Preliminary Injunction': 364,\n",
       " 'Motion for Primary Custody': 2,\n",
       " 'Motion for Protective Order': 116,\n",
       " 'Motion for Qualified Domestic Relations Order (QDRO)': 1,\n",
       " 'Motion for Recognition as Foreign Main or Nonmain Proceedings': 4,\n",
       " 'Motion for Reconsideration': 206,\n",
       " 'Motion for Rehearing': 48,\n",
       " 'Motion for Relief from Order or Judgment': 69,\n",
       " 'Motion for Relief from the Automatic Stay': 18,\n",
       " 'Motion for Remittitur': 23,\n",
       " 'Motion for Restitution': 3,\n",
       " 'Motion for Restraining or Protection Order': 59,\n",
       " 'Motion for Sanctions (Discovery)': 67,\n",
       " 'Motion for Separate Trials': 2,\n",
       " 'Motion for Subpoena': 10,\n",
       " 'Motion for Substitution of Party': 13,\n",
       " 'Motion for Witness List or Production of Witnesses': 1,\n",
       " 'Motion in Limine': 70,\n",
       " 'Motion to Abstain or for Abstention': 3,\n",
       " 'Motion to Admonish Jury': 1,\n",
       " 'Motion to Allow Late Filing of Proof of Claim': 1,\n",
       " 'Motion to Amend': 38,\n",
       " 'Motion to Amend Findings': 2,\n",
       " 'Motion to Amend Pleading (Other than Complaint or Petition)': 38,\n",
       " 'Motion to Amend Scheduling Order': 4,\n",
       " 'Motion to Appoint Chapter 11 Trustee or Examiner': 1,\n",
       " 'Motion to Appoint Guardian ad Litem': 8,\n",
       " 'Motion to Appoint Substitute Custodian of Vessel': 1,\n",
       " 'Motion to Approve Disclosure Statement': 1,\n",
       " 'Motion to Assume Executory Contract or Unexpired Lease': 2,\n",
       " 'Motion to Avoid Lien on Exemption Impairment Grounds': 4,\n",
       " 'Motion to Bifurcate or Sever': 20,\n",
       " 'Motion to Certify Collective Action': 4,\n",
       " 'Motion to Compel Abandonment': 1,\n",
       " 'Motion to Compel Arbitration': 255,\n",
       " 'Motion to Conditionally Certify Collective Action': 4,\n",
       " 'Motion to Confirm Plan': 5,\n",
       " 'Motion to Confirm that Stay Does Not Apply': 4,\n",
       " 'Motion to Consolidate': 34,\n",
       " 'Motion to Consolidate or for Joint Administration of Bankruptcy Cases': 2,\n",
       " 'Motion to Convert or Dismiss Case': 32,\n",
       " 'Motion to Correct Order or Judgment': 10,\n",
       " 'Motion to Decertify Class': 5,\n",
       " 'Motion to Decertify Collective Action': 2,\n",
       " 'Motion to Deny Class Certification': 1,\n",
       " 'Motion to Determine Tax Liability': 1,\n",
       " 'Motion to Dismiss': 1679,\n",
       " 'Motion to Dismiss for Lack of Jurisdiction': 124,\n",
       " 'Motion to Dismiss for Lack of Personal Jurisdiction': 204,\n",
       " 'Motion to Dismiss for Lack of Standing': 137,\n",
       " 'Motion to Dismiss for Lack of Subject Matter Jurisdiction': 343,\n",
       " 'Motion to Disqualify Counsel': 56,\n",
       " 'Motion to Dissolve Temporary Restraining Order (TRO)': 2,\n",
       " 'Motion to Distribute': 3,\n",
       " 'Motion to Enforce': 4,\n",
       " 'Motion to Enforce Alimony/Maintenance': 4,\n",
       " 'Motion to Enforce Arbitration Award': 8,\n",
       " 'Motion to Enforce Automatic Stay': 3,\n",
       " 'Motion to Enforce Child Custody Decree': 1,\n",
       " 'Motion to Enforce Confirmation Order': 3,\n",
       " 'Motion to Enforce Discharge Injunction': 5,\n",
       " 'Motion to Enforce Separation Agreement': 3,\n",
       " 'Motion to Enforce Visitation or Parenting Time': 6,\n",
       " 'Motion to Exclude Expert Report or Testimony': 56,\n",
       " 'Motion to Expand the Record': 2,\n",
       " 'Motion to Expedite': 3,\n",
       " 'Motion to Extend Claims Bar Date': 1,\n",
       " 'Motion to Extend Time for Discovery': 4,\n",
       " 'Motion to Increase/Reduce Security': 1,\n",
       " 'Motion to Limit Discovery': 4,\n",
       " 'Motion to Modify Joint Legal Custody': 7,\n",
       " 'Motion to Modify Plan': 4,\n",
       " 'Motion to Modify Primary Custody': 3,\n",
       " 'Motion to Modify Property Division Portions of Divorce or Dissolution Decree': 23,\n",
       " 'Motion to Modify Visitation Rights or Parenting Time': 18,\n",
       " 'Motion to Modify or Correct Arbitration Award': 3,\n",
       " 'Motion to Modify or Terminate Alimony/Maintenance': 24,\n",
       " 'Motion to Obtain Credit, Postpetition Financing, or Incur Debt': 2,\n",
       " 'Motion to Post Bond': 2,\n",
       " 'Motion to Quash or Vacate Custody Order': 2,\n",
       " 'Motion to Quash or Vacate a Subpoena': 47,\n",
       " 'Motion to Quiet Title': 7,\n",
       " 'Motion to Reargue': 35,\n",
       " 'Motion to Reinstate Visitation or Parenting Time': 1,\n",
       " 'Motion to Remove a Non-Suit': 1,\n",
       " 'Motion to Renew': 74,\n",
       " 'Motion to Reopen Bankruptcy Case': 8,\n",
       " 'Motion to Reverse and Remand': 2,\n",
       " 'Motion to Sell Property Free and Clear of Interests': 1,\n",
       " 'Motion to Serve Additional Discovery Requests': 1,\n",
       " 'Motion to Set Aside Default Judgment': 1,\n",
       " 'Motion to Set Aside or Vacate': 101,\n",
       " 'Motion to Set Aside or Vacate Dismissal': 21,\n",
       " 'Motion to Set Aside or Vacate Protective Order': 12,\n",
       " 'Motion to Set Aside, Alter, or Modify a Decree': 7,\n",
       " 'Motion to Stay Enforcement of Judgment': 11,\n",
       " 'Motion to Stay Proceedings': 72,\n",
       " 'Motion to Strike Affirmative Defenses': 12,\n",
       " 'Motion to Strike All or Part of a Pleading': 70,\n",
       " 'Motion to Strike Expert Testimony': 10,\n",
       " 'Motion to Strike Testimony': 5,\n",
       " 'Motion to Supplement the Record': 20,\n",
       " 'Motion to Surcharge Collateral': 1,\n",
       " 'Motion to Tax Costs': 13,\n",
       " 'Motion to Terminate Child Support Payment': 2,\n",
       " 'Motion to Terminate Guardianship': 6,\n",
       " 'Motion to Transfer Guardianship': 1,\n",
       " 'Motion to Transfer Venue Pursuant to Forum Selection Clause': 6,\n",
       " 'Motion to Transfer or Change Venue': 124,\n",
       " 'Motion to Unseal Records': 20,\n",
       " 'Motion to Use Cash Collateral': 5,\n",
       " 'Motion to Use, Sell, or Lease Property Outside the Ordinary Course of Business': 5,\n",
       " 'Motion to Vacate Arbitration Award': 1,\n",
       " 'Motion to Vacate Attachment': 1,\n",
       " 'Motion to Vacate Order or Judgment': 5,\n",
       " 'Motion to Vacate Stay of State Action in Limitation of Liability Proceeding': 2,\n",
       " 'Motion to Vacate Summary Judgment': 2,\n",
       " 'Motion to Vacate Wardship': 1,\n",
       " 'Motion to Vacate or Set Aside Discharge': 2,\n",
       " 'Motion to Withdraw Reference': 1,\n",
       " 'Motion to Withdraw an Admission': 1,\n",
       " 'Objection to  Claimed Exemptions': 18,\n",
       " 'Objection to Administrative Expense Claim': 2,\n",
       " 'Objection to Confirmation of Plan': 27,\n",
       " 'Objection to Disclosure Statement': 1,\n",
       " 'Objection to Proof of Claim': 49,\n",
       " 'On Appeal': 9197,\n",
       " 'Peremptory Exception of Abandonment': 3,\n",
       " 'Peremptory Exception of No Right of Action or No Interest in the Plaintiff to Institute the Suit': 5,\n",
       " 'Peremptory Exception of Nonjoinder of a Party': 1,\n",
       " 'Peremptory Exception of Peremption': 3,\n",
       " 'Peremptory Exception of Res Judicata': 7,\n",
       " 'Petition for Adoption': 27,\n",
       " 'Petition for Contempt for Failure to Pay Child Support': 11,\n",
       " 'Petition for Custody': 59,\n",
       " 'Petition for Divorce or Dissolution': 123,\n",
       " 'Petition for Emergency or Immediate Custody': 3,\n",
       " 'Petition for Increased or Additional Visitation or Parenting Time': 2,\n",
       " 'Petition for Legal Separation': 1,\n",
       " 'Petition for Rehearing En Banc': 6,\n",
       " 'Petition for Removal': 4,\n",
       " 'Petition for Return of Child Under the Hague Convention': 2,\n",
       " 'Petition for Sale of Marital Property': 3,\n",
       " 'Petition for Special Action': 1,\n",
       " 'Petition for Visitation Rights or Parenting Time': 17,\n",
       " 'Petition to Enforce Child Support': 12,\n",
       " 'Petition to Prevent Relocation': 1,\n",
       " 'Petition to Reduce Visitation Rights or Parenting Time': 2,\n",
       " 'Petition to Set Child Support': 36,\n",
       " 'Petition to Suspend Visitation or Parenting Time': 4,\n",
       " 'Petition to Terminate Parental Rights': 219,\n",
       " 'Post-Trial Hearing Motion': 512,\n",
       " 'Request for Award of Permanent Alimony/Maintenance': 21,\n",
       " 'Request for Entry of Default': 7,\n",
       " 'Request for Retroactive Award of Child Support': 4,\n",
       " 'Review of Administrative Decision': 2773,\n",
       " 'Sentencing or Penalty Phase Motion or Objection': 1342,\n",
       " 'Special Motion to Strike': 41,\n",
       " 'Tax Court Petition': 4,\n",
       " 'Trial or Guilt Phase Motion or Objection': 1097}"
      ]
     },
     "execution_count": 136,
     "metadata": {},
     "output_type": "execute_result"
    }
   ],
   "source": [
    "count_dict"
   ]
  },
  {
   "cell_type": "code",
   "execution_count": 133,
   "metadata": {},
   "outputs": [
    {
     "name": "stdout",
     "output_type": "stream",
     "text": [
      "Application for Bankruptcy Trustee Fees\n",
      "Declinatory Exception of Improper Venue\n",
      "Declinatory Exception of Insufficiency of Service of Process\n",
      "Declinatory Exception of Lack of Personal Jurisdiction\n",
      "Dilatory Exception of Unauthorized Use of Summary Proceeding\n",
      "Joinder\n",
      "Motion Authorizing and Approving Payment of Certain Prepetition Obligations\n",
      "Motion for Abandonment of Property\n",
      "Motion for Adequate Protection\n",
      "Motion for Appointment of an Expert\n",
      "Motion for Contempt for Violating Discharge Injunction or Order\n",
      "Motion for Genetic Testing\n",
      "Motion for Leave to File Late or Untimely Notice of Appeal\n",
      "Motion for Maritime Attachment and Garnishment\n",
      "Motion for Qualified Domestic Relations Order (QDRO)\n",
      "Motion for Witness List or Production of Witnesses\n",
      "Motion to Admonish Jury\n",
      "Motion to Allow Late Filing of Proof of Claim\n",
      "Motion to Appoint Chapter 11 Trustee or Examiner\n",
      "Motion to Appoint Substitute Custodian of Vessel\n",
      "Motion to Approve Disclosure Statement\n",
      "Motion to Compel Abandonment\n",
      "Motion to Deny Class Certification\n",
      "Motion to Determine Tax Liability\n",
      "Motion to Enforce Child Custody Decree\n",
      "Motion to Extend Claims Bar Date\n",
      "Motion to Increase/Reduce Security\n",
      "Motion to Reinstate Visitation or Parenting Time\n",
      "Motion to Remove a Non-Suit\n",
      "Motion to Sell Property Free and Clear of Interests\n",
      "Motion to Serve Additional Discovery Requests\n",
      "Motion to Set Aside Default Judgment\n",
      "Motion to Surcharge Collateral\n",
      "Motion to Transfer Guardianship\n",
      "Motion to Vacate Arbitration Award\n",
      "Motion to Vacate Attachment\n",
      "Motion to Vacate Wardship\n",
      "Motion to Withdraw Reference\n",
      "Motion to Withdraw an Admission\n",
      "Objection to Disclosure Statement\n",
      "Peremptory Exception of Nonjoinder of a Party\n",
      "Petition for Legal Separation\n",
      "Petition for Special Action\n",
      "Petition to Prevent Relocation\n"
     ]
    }
   ],
   "source": [
    "for x in count_dict:\n",
    "    if count_dict[x] == 1:\n",
    "        print(x)"
   ]
  }
 ],
 "metadata": {
  "kernelspec": {
   "display_name": "venv",
   "language": "python",
   "name": "python3"
  },
  "language_info": {
   "codemirror_mode": {
    "name": "ipython",
    "version": 3
   },
   "file_extension": ".py",
   "mimetype": "text/x-python",
   "name": "python",
   "nbconvert_exporter": "python",
   "pygments_lexer": "ipython3",
   "version": "3.10.9"
  }
 },
 "nbformat": 4,
 "nbformat_minor": 2
}
