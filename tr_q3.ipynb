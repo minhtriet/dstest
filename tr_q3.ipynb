{
 "cells": [
  {
   "cell_type": "markdown",
   "metadata": {},
   "source": [
    "### Questions"
   ]
  },
  {
   "cell_type": "markdown",
   "metadata": {},
   "source": [
    "- The representability of the data\n",
    "  - Is the distribution of the labels represent the real world\n",
    "\n",
    "- We note that the many classes have only one example, for example\n",
    "  ```\n",
    "  Application for Bankruptcy Trustee Fees\n",
    "  Declinatory Exception of Improper Venue\n",
    "  Declinatory Exception of Insufficiency of Service of Process\n",
    "  Declinatory Exception of Lack of Personal Jurisdiction\n",
    "  Dilatory Exception of Unauthorized Use of Summary Proceeding\n",
    "  Joinder\n",
    "  Motion Authorizing and Approving Payment of Certain Prepetition Obligations\n",
    "  Motion for Abandonment of Property\n",
    "  Motion for Adequate Protection\n",
    "  Motion for Appointment of an Expert\n",
    "  Motion for Contempt for Violating Discharge Injunction or Order\n",
    "  Objection to Disclosure Statement\n",
    "  Peremptory Exception of Nonjoinder of a Party\n",
    "  Petition for Legal Separation\n",
    "  Petition for Special Action\n",
    "  Petition to Prevent Relocation\n",
    "  ```\n",
    "  - It makes sense to collect more examples for these problem, just bear in mind to keep the label distribution of the training data in line with real world \n",
    "  - There are 224 classes in this problem, and some classes are related to each other, for example `'Declinatory Exception of Improper Venue', 'Declinatory Exception of Insufficiency of Service of Process', 'Declinatory Exception of Lack of Personal Jurisdiction'` are all Declinatory posture. \n",
    "    - Intuitively it makes sense to split those labels into a separate problem. However a more end-to-end approach the label relations between them, as explored [in this paper](https://openaccess.thecvf.com/content_cvpr_2016/papers/Hu_Learning_Structured_Inference_CVPR_2016_paper.pdf) and [this library](http://scikit.ml/labelrelations.html)\n",
    "    - This could alleviate the problems that many classes have only one examples"
   ]
  }
 ],
 "metadata": {
  "language_info": {
   "name": "python"
  }
 },
 "nbformat": 4,
 "nbformat_minor": 2
}
