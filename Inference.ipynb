{
 "cells": [
  {
   "cell_type": "code",
   "execution_count": 83,
   "metadata": {},
   "outputs": [],
   "source": [
    "from transformers import AutoModelForSequenceClassification, AutoTokenizer\n",
    "import torch\n",
    "from torch import nn\n",
    "from sklearn.metrics import accuracy_score\n",
    "import pandas as pd\n",
    "from helper import preprocess_text, preprocess_df\n",
    "import numpy as np\n",
    "from collections import Counter\n",
    "from sklearn.metrics import confusion_matrix"
   ]
  },
  {
   "cell_type": "markdown",
   "metadata": {},
   "source": [
    "## Load the test dataset"
   ]
  },
  {
   "cell_type": "code",
   "execution_count": 84,
   "metadata": {},
   "outputs": [],
   "source": [
    "test = pd.read_csv(\"test_data.csv\")"
   ]
  },
  {
   "cell_type": "code",
   "execution_count": 85,
   "metadata": {},
   "outputs": [],
   "source": [
    "test = preprocess_df(test)"
   ]
  },
  {
   "cell_type": "code",
   "execution_count": 86,
   "metadata": {},
   "outputs": [],
   "source": [
    "test = test.reset_index()"
   ]
  },
  {
   "cell_type": "code",
   "execution_count": 87,
   "metadata": {},
   "outputs": [],
   "source": [
    "label_index = dict(zip(['answer', 'header', 'other', 'question'], range(4)))"
   ]
  },
  {
   "cell_type": "code",
   "execution_count": 88,
   "metadata": {},
   "outputs": [],
   "source": [
    "test_label_ids = test['label'].map(lambda x: label_index[x]).values"
   ]
  },
  {
   "cell_type": "markdown",
   "metadata": {},
   "source": [
    "## Baseline\n",
    "Mark every label as `question`"
   ]
  },
  {
   "cell_type": "code",
   "execution_count": 89,
   "metadata": {},
   "outputs": [
    {
     "data": {
      "text/plain": [
       "0.4713656387665198"
      ]
     },
     "execution_count": 89,
     "metadata": {},
     "output_type": "execute_result"
    }
   ],
   "source": [
    "accuracy_score(y_pred=[3]*len(test),y_true=test_label_ids)"
   ]
  },
  {
   "cell_type": "markdown",
   "metadata": {},
   "source": [
    "## Using the model"
   ]
  },
  {
   "cell_type": "code",
   "execution_count": 90,
   "metadata": {},
   "outputs": [],
   "source": [
    "test = preprocess_df(test)"
   ]
  },
  {
   "cell_type": "code",
   "execution_count": 94,
   "metadata": {},
   "outputs": [],
   "source": [
    "preprocessed_texts = preprocess_text(test['text']).values"
   ]
  },
  {
   "cell_type": "code",
   "execution_count": 95,
   "metadata": {},
   "outputs": [],
   "source": [
    "model = AutoModelForSequenceClassification.from_pretrained(\"models/best\")\n",
    "tokenizer = AutoTokenizer.from_pretrained(\"distilbert-base-uncased\")"
   ]
  },
  {
   "cell_type": "code",
   "execution_count": 96,
   "metadata": {},
   "outputs": [],
   "source": [
    "with torch.no_grad():\n",
    "    prediction_raw = [model(**tokenizer(str, truncation=True, return_tensors='pt')).logits for str in preprocessed_texts]"
   ]
  },
  {
   "cell_type": "code",
   "execution_count": 97,
   "metadata": {},
   "outputs": [],
   "source": [
    "prediction_label = []\n",
    "for i in prediction_raw:\n",
    "    prediction_label.append(i.argmax())\n",
    "prediction_label = np.array(prediction_label)"
   ]
  },
  {
   "cell_type": "code",
   "execution_count": 98,
   "metadata": {},
   "outputs": [
    {
     "data": {
      "text/plain": [
       "[tensor([[-3.5352, -2.4019, -2.1327,  6.4319]]),\n",
       " tensor([[-3.3387, -2.6019, -1.9878,  6.3745]]),\n",
       " tensor([[-5.2360, -0.6580, -2.4960,  6.4828]]),\n",
       " tensor([[-3.3459, -2.6211, -1.8634,  6.3191]])]"
      ]
     },
     "execution_count": 98,
     "metadata": {},
     "output_type": "execute_result"
    }
   ],
   "source": [
    "prediction_raw[:4]"
   ]
  },
  {
   "cell_type": "code",
   "execution_count": 99,
   "metadata": {},
   "outputs": [
    {
     "data": {
      "text/plain": [
       "array([3, 3, 3, ..., 0, 0, 3])"
      ]
     },
     "execution_count": 99,
     "metadata": {},
     "output_type": "execute_result"
    }
   ],
   "source": [
    "prediction_label"
   ]
  },
  {
   "cell_type": "code",
   "execution_count": 100,
   "metadata": {},
   "outputs": [
    {
     "data": {
      "text/plain": [
       "Counter({3: 1039, 0: 834, 1: 115, 2: 282})"
      ]
     },
     "execution_count": 100,
     "metadata": {},
     "output_type": "execute_result"
    }
   ],
   "source": [
    "Counter(prediction_label)"
   ]
  },
  {
   "cell_type": "code",
   "execution_count": 101,
   "metadata": {},
   "outputs": [
    {
     "data": {
      "text/plain": [
       "0.7986784140969163"
      ]
     },
     "execution_count": 101,
     "metadata": {},
     "output_type": "execute_result"
    }
   ],
   "source": [
    "accuracy_score(y_pred=prediction_label,y_true=test_label_ids)"
   ]
  },
  {
   "cell_type": "markdown",
   "metadata": {},
   "source": [
    "### Error analysis"
   ]
  },
  {
   "cell_type": "code",
   "execution_count": 102,
   "metadata": {},
   "outputs": [],
   "source": [
    "test['prediction'] = prediction_label\n",
    "test['target_id'] = test_label_ids"
   ]
  },
  {
   "cell_type": "code",
   "execution_count": 103,
   "metadata": {},
   "outputs": [],
   "source": [
    "mislabeled_df = test[test['prediction'] != test['target_id']]"
   ]
  },
  {
   "cell_type": "code",
   "execution_count": 104,
   "metadata": {},
   "outputs": [
    {
     "data": {
      "text/html": [
       "<div>\n",
       "<style scoped>\n",
       "    .dataframe tbody tr th:only-of-type {\n",
       "        vertical-align: middle;\n",
       "    }\n",
       "\n",
       "    .dataframe tbody tr th {\n",
       "        vertical-align: top;\n",
       "    }\n",
       "\n",
       "    .dataframe thead th {\n",
       "        text-align: right;\n",
       "    }\n",
       "</style>\n",
       "<table border=\"1\" class=\"dataframe\">\n",
       "  <thead>\n",
       "    <tr style=\"text-align: right;\">\n",
       "      <th></th>\n",
       "      <th>index</th>\n",
       "      <th>box</th>\n",
       "      <th>text</th>\n",
       "      <th>label</th>\n",
       "      <th>words</th>\n",
       "      <th>linking</th>\n",
       "      <th>id</th>\n",
       "      <th>file</th>\n",
       "      <th>prediction</th>\n",
       "      <th>target_id</th>\n",
       "    </tr>\n",
       "  </thead>\n",
       "  <tbody>\n",
       "    <tr>\n",
       "      <th>5</th>\n",
       "      <td>5</td>\n",
       "      <td>[209, 328, 256, 343]</td>\n",
       "      <td>Lorillard</td>\n",
       "      <td>answer</td>\n",
       "      <td>[{'box': [209, 328, 256, 343], 'text': 'Lorill...</td>\n",
       "      <td>[[2, 5]]</td>\n",
       "      <td>5</td>\n",
       "      <td>83594639</td>\n",
       "      <td>1</td>\n",
       "      <td>0</td>\n",
       "    </tr>\n",
       "    <tr>\n",
       "      <th>7</th>\n",
       "      <td>7</td>\n",
       "      <td>[638, 68, 673, 90]</td>\n",
       "      <td>☑001</td>\n",
       "      <td>other</td>\n",
       "      <td>[{'box': [638, 68, 673, 90], 'text': '☑001'}]</td>\n",
       "      <td>[]</td>\n",
       "      <td>7</td>\n",
       "      <td>83594639</td>\n",
       "      <td>0</td>\n",
       "      <td>2</td>\n",
       "    </tr>\n",
       "    <tr>\n",
       "      <th>9</th>\n",
       "      <td>9</td>\n",
       "      <td>[338, 74, 481, 88]</td>\n",
       "      <td>ROPER STARCH WORLDWIDE</td>\n",
       "      <td>other</td>\n",
       "      <td>[{'text': 'ROPER', 'box': [338, 75, 373, 86]},...</td>\n",
       "      <td>[]</td>\n",
       "      <td>9</td>\n",
       "      <td>83594639</td>\n",
       "      <td>0</td>\n",
       "      <td>2</td>\n",
       "    </tr>\n",
       "    <tr>\n",
       "      <th>10</th>\n",
       "      <td>10</td>\n",
       "      <td>[267, 109, 447, 168]</td>\n",
       "      <td>ROPER STARCH</td>\n",
       "      <td>header</td>\n",
       "      <td>[{'text': 'ROPER', 'box': [279, 109, 427, 141]...</td>\n",
       "      <td>[]</td>\n",
       "      <td>10</td>\n",
       "      <td>83594639</td>\n",
       "      <td>0</td>\n",
       "      <td>1</td>\n",
       "    </tr>\n",
       "    <tr>\n",
       "      <th>11</th>\n",
       "      <td>11</td>\n",
       "      <td>[196, 186, 524, 203]</td>\n",
       "      <td>TURNING DATA INTO INTELLIGENCE WORLDWIDE</td>\n",
       "      <td>other</td>\n",
       "      <td>[{'text': 'TURNING', 'box': [196, 186, 253, 20...</td>\n",
       "      <td>[]</td>\n",
       "      <td>11</td>\n",
       "      <td>83594639</td>\n",
       "      <td>0</td>\n",
       "      <td>2</td>\n",
       "    </tr>\n",
       "    <tr>\n",
       "      <th>...</th>\n",
       "      <td>...</td>\n",
       "      <td>...</td>\n",
       "      <td>...</td>\n",
       "      <td>...</td>\n",
       "      <td>...</td>\n",
       "      <td>...</td>\n",
       "      <td>...</td>\n",
       "      <td>...</td>\n",
       "      <td>...</td>\n",
       "      <td>...</td>\n",
       "    </tr>\n",
       "    <tr>\n",
       "      <th>2239</th>\n",
       "      <td>2298</td>\n",
       "      <td>[279, 705, 399, 720]</td>\n",
       "      <td>FOR CONTROL USE ONLY</td>\n",
       "      <td>header</td>\n",
       "      <td>[{'text': 'FOR', 'box': [279, 705, 300, 718]},...</td>\n",
       "      <td>[[50, 51], [50, 52], [50, 53]]</td>\n",
       "      <td>50</td>\n",
       "      <td>86075409_5410</td>\n",
       "      <td>3</td>\n",
       "      <td>1</td>\n",
       "    </tr>\n",
       "    <tr>\n",
       "      <th>2245</th>\n",
       "      <td>2304</td>\n",
       "      <td>[54, 839, 151, 857]</td>\n",
       "      <td>* Where Applicable</td>\n",
       "      <td>other</td>\n",
       "      <td>[{'text': '*', 'box': [54, 839, 65, 850]}, {'t...</td>\n",
       "      <td>[]</td>\n",
       "      <td>56</td>\n",
       "      <td>86075409_5410</td>\n",
       "      <td>3</td>\n",
       "      <td>2</td>\n",
       "    </tr>\n",
       "    <tr>\n",
       "      <th>2247</th>\n",
       "      <td>2307</td>\n",
       "      <td>[77, 683, 166, 703]</td>\n",
       "      <td>APPROVALS</td>\n",
       "      <td>question</td>\n",
       "      <td>[{'box': [77, 683, 166, 703], 'text': 'APPROVA...</td>\n",
       "      <td>[[2, 24], [2, 24]]</td>\n",
       "      <td>2</td>\n",
       "      <td>87125460</td>\n",
       "      <td>1</td>\n",
       "      <td>3</td>\n",
       "    </tr>\n",
       "    <tr>\n",
       "      <th>2262</th>\n",
       "      <td>2324</td>\n",
       "      <td>[110, 270, 250, 292]</td>\n",
       "      <td>Page 14 and Table 4</td>\n",
       "      <td>answer</td>\n",
       "      <td>[{'text': 'Page', 'box': [110, 272, 142, 290]}...</td>\n",
       "      <td>[[18, 19], [18, 19]]</td>\n",
       "      <td>19</td>\n",
       "      <td>87125460</td>\n",
       "      <td>2</td>\n",
       "      <td>0</td>\n",
       "    </tr>\n",
       "    <tr>\n",
       "      <th>2264</th>\n",
       "      <td>2326</td>\n",
       "      <td>[320, 306, 466, 324]</td>\n",
       "      <td>Request from sponsor</td>\n",
       "      <td>answer</td>\n",
       "      <td>[{'text': 'Request', 'box': [320, 306, 372, 32...</td>\n",
       "      <td>[[20, 21], [20, 21]]</td>\n",
       "      <td>21</td>\n",
       "      <td>87125460</td>\n",
       "      <td>2</td>\n",
       "      <td>0</td>\n",
       "    </tr>\n",
       "  </tbody>\n",
       "</table>\n",
       "<p>457 rows × 10 columns</p>\n",
       "</div>"
      ],
      "text/plain": [
       "      index                   box                                      text  \\\n",
       "5         5  [209, 328, 256, 343]                                 Lorillard   \n",
       "7         7    [638, 68, 673, 90]                                      ☑001   \n",
       "9         9    [338, 74, 481, 88]                    ROPER STARCH WORLDWIDE   \n",
       "10       10  [267, 109, 447, 168]                              ROPER STARCH   \n",
       "11       11  [196, 186, 524, 203]  TURNING DATA INTO INTELLIGENCE WORLDWIDE   \n",
       "...     ...                   ...                                       ...   \n",
       "2239   2298  [279, 705, 399, 720]                      FOR CONTROL USE ONLY   \n",
       "2245   2304   [54, 839, 151, 857]                        * Where Applicable   \n",
       "2247   2307   [77, 683, 166, 703]                                 APPROVALS   \n",
       "2262   2324  [110, 270, 250, 292]                       Page 14 and Table 4   \n",
       "2264   2326  [320, 306, 466, 324]                      Request from sponsor   \n",
       "\n",
       "         label                                              words  \\\n",
       "5       answer  [{'box': [209, 328, 256, 343], 'text': 'Lorill...   \n",
       "7        other      [{'box': [638, 68, 673, 90], 'text': '☑001'}]   \n",
       "9        other  [{'text': 'ROPER', 'box': [338, 75, 373, 86]},...   \n",
       "10      header  [{'text': 'ROPER', 'box': [279, 109, 427, 141]...   \n",
       "11       other  [{'text': 'TURNING', 'box': [196, 186, 253, 20...   \n",
       "...        ...                                                ...   \n",
       "2239    header  [{'text': 'FOR', 'box': [279, 705, 300, 718]},...   \n",
       "2245     other  [{'text': '*', 'box': [54, 839, 65, 850]}, {'t...   \n",
       "2247  question  [{'box': [77, 683, 166, 703], 'text': 'APPROVA...   \n",
       "2262    answer  [{'text': 'Page', 'box': [110, 272, 142, 290]}...   \n",
       "2264    answer  [{'text': 'Request', 'box': [320, 306, 372, 32...   \n",
       "\n",
       "                             linking  id           file  prediction  target_id  \n",
       "5                           [[2, 5]]   5       83594639           1          0  \n",
       "7                                 []   7       83594639           0          2  \n",
       "9                                 []   9       83594639           0          2  \n",
       "10                                []  10       83594639           0          1  \n",
       "11                                []  11       83594639           0          2  \n",
       "...                              ...  ..            ...         ...        ...  \n",
       "2239  [[50, 51], [50, 52], [50, 53]]  50  86075409_5410           3          1  \n",
       "2245                              []  56  86075409_5410           3          2  \n",
       "2247              [[2, 24], [2, 24]]   2       87125460           1          3  \n",
       "2262            [[18, 19], [18, 19]]  19       87125460           2          0  \n",
       "2264            [[20, 21], [20, 21]]  21       87125460           2          0  \n",
       "\n",
       "[457 rows x 10 columns]"
      ]
     },
     "execution_count": 104,
     "metadata": {},
     "output_type": "execute_result"
    }
   ],
   "source": [
    "mislabeled_df"
   ]
  },
  {
   "cell_type": "code",
   "execution_count": 105,
   "metadata": {},
   "outputs": [
    {
     "data": {
      "text/plain": [
       "array([[687,  19,  56,  47],\n",
       "       [ 21,  46,   5,  47],\n",
       "       [ 75,  14, 159,  24],\n",
       "       [ 51,  36,  62, 921]])"
      ]
     },
     "execution_count": 105,
     "metadata": {},
     "output_type": "execute_result"
    }
   ],
   "source": [
    "confusion_matrix(y_true=test['target_id'].values, y_pred=test['prediction'])"
   ]
  },
  {
   "cell_type": "code",
   "execution_count": 106,
   "metadata": {},
   "outputs": [
    {
     "data": {
      "text/plain": [
       "3    149\n",
       "0    122\n",
       "2    113\n",
       "1     73\n",
       "Name: target_id, dtype: int64"
      ]
     },
     "execution_count": 106,
     "metadata": {},
     "output_type": "execute_result"
    }
   ],
   "source": [
    "mislabeled_df['target_id'].value_counts()"
   ]
  },
  {
   "cell_type": "code",
   "execution_count": 107,
   "metadata": {},
   "outputs": [],
   "source": [
    "prediction_raw = torch.cat(prediction_raw)"
   ]
  },
  {
   "cell_type": "code",
   "execution_count": 135,
   "metadata": {},
   "outputs": [],
   "source": [
    "missed_prediction = prediction_raw[mislabeled_df.index.values]"
   ]
  },
  {
   "cell_type": "code",
   "execution_count": 136,
   "metadata": {},
   "outputs": [],
   "source": [
    "sm = nn.Softmax(dim=1)"
   ]
  },
  {
   "cell_type": "code",
   "execution_count": 138,
   "metadata": {},
   "outputs": [
    {
     "data": {
      "text/plain": [
       "tensor([[-2.0285,  1.5704, -0.5854,  0.2602],\n",
       "        [ 1.9063, -1.4393, -1.3599, -0.2412],\n",
       "        [ 5.8454, -4.4767, -2.7974, -1.9164],\n",
       "        ...,\n",
       "        [-4.8892,  2.8709, -1.6743,  2.0851],\n",
       "        [-0.6451, -5.1014,  5.1716, -1.6514],\n",
       "        [-1.2490, -4.6066,  4.7553, -0.7553]])"
      ]
     },
     "execution_count": 138,
     "metadata": {},
     "output_type": "execute_result"
    }
   ],
   "source": [
    "missed_prediction"
   ]
  },
  {
   "cell_type": "code",
   "execution_count": 144,
   "metadata": {},
   "outputs": [],
   "source": [
    "sm_missed_prediction = sm(missed_prediction)"
   ]
  },
  {
   "cell_type": "code",
   "execution_count": 160,
   "metadata": {},
   "outputs": [
    {
     "data": {
      "image/png": "[encoded data removed]",
      "text/plain": [
       "<Figure size 640x480 with 2 Axes>"
      ]
     },
     "metadata": {},
     "output_type": "display_data"
    }
   ],
   "source": [
    "import seaborn as sns\n",
    "\n",
    "\n",
    "ax = sns.heatmap(sm_missed_prediction)\n",
    "  \n",
    "plt.show()"
   ]
  },
  {
   "cell_type": "code",
   "execution_count": 166,
   "metadata": {},
   "outputs": [
    {
     "data": {
      "text/plain": [
       "<AxesSubplot: ylabel='Frequency'>"
      ]
     },
     "execution_count": 166,
     "metadata": {},
     "output_type": "execute_result"
    },
    {
     "data": {
      "image/png": "[encoded data removed]",
      "text/plain": [
       "<Figure size 640x480 with 1 Axes>"
      ]
     },
     "metadata": {},
     "output_type": "display_data"
    }
   ],
   "source": [
    "mislabeled_df['text'].str.len().plot(kind='hist', logy=True)"
   ]
  }
 ],
 "metadata": {
  "kernelspec": {
   "display_name": "Python 3 (ipykernel)",
   "language": "python",
   "name": "python3"
  },
  "language_info": {
   "codemirror_mode": {
    "name": "ipython",
    "version": 3
   },
   "file_extension": ".py",
   "mimetype": "text/x-python",
   "name": "python",
   "nbconvert_exporter": "python",
   "pygments_lexer": "ipython3",
   "version": "3.9.12"
  },
  "vscode": {
   "interpreter": {
    "hash": "bc56a23bccbe5aceb3052fbf4cfaff87eb4b620654d0523699a9ffb8cad4c286"
   }
  }
 },
 "nbformat": 4,
 "nbformat_minor": 2
}
