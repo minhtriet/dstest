{
 "cells": [
  {
   "cell_type": "code",
   "execution_count": 1,
   "id": "b21db6eb",
   "metadata": {},
   "outputs": [],
   "source": [
    "import pandas as pd"
   ]
  },
  {
   "cell_type": "code",
   "execution_count": 2,
   "id": "24b936b9",
   "metadata": {},
   "outputs": [],
   "source": [
    "train_df = pd.read_csv(\"train_data.csv\")\n",
    "test_df = pd.read_csv(\"test_data.csv\")"
   ]
  },
  {
   "cell_type": "code",
   "execution_count": 3,
   "id": "b5eb96e0",
   "metadata": {},
   "outputs": [],
   "source": [
    "tmp = list(train_df[\"text\"].values)"
   ]
  },
  {
   "cell_type": "code",
   "execution_count": 4,
   "id": "a9231277",
   "metadata": {},
   "outputs": [
    {
     "data": {
      "text/plain": [
       "question    3266\n",
       "answer      2802\n",
       "other        902\n",
       "header       441\n",
       "Name: label, dtype: int64"
      ]
     },
     "execution_count": 4,
     "metadata": {},
     "output_type": "execute_result"
    }
   ],
   "source": [
    "train_df['label'].value_counts()"
   ]
  },
  {
   "cell_type": "code",
   "execution_count": 5,
   "id": "3ccabe19",
   "metadata": {},
   "outputs": [
    {
     "data": {
      "text/plain": [
       "box          0\n",
       "text       163\n",
       "label        0\n",
       "words        0\n",
       "linking      0\n",
       "id           0\n",
       "file         0\n",
       "dtype: int64"
      ]
     },
     "execution_count": 5,
     "metadata": {},
     "output_type": "execute_result"
    }
   ],
   "source": [
    "train_df.isna().sum()"
   ]
  },
  {
   "cell_type": "code",
   "execution_count": 6,
   "id": "e33ffda5",
   "metadata": {},
   "outputs": [
    {
     "data": {
      "text/plain": [
       "box         0\n",
       "text       62\n",
       "label       0\n",
       "words       0\n",
       "linking     0\n",
       "id          0\n",
       "file        0\n",
       "dtype: int64"
      ]
     },
     "execution_count": 6,
     "metadata": {},
     "output_type": "execute_result"
    }
   ],
   "source": [
    "test_df.isna().sum()"
   ]
  },
  {
   "cell_type": "code",
   "execution_count": 7,
   "id": "858c8abd",
   "metadata": {},
   "outputs": [
    {
     "data": {
      "text/html": [
       "<div>\n",
       "<style scoped>\n",
       "    .dataframe tbody tr th:only-of-type {\n",
       "        vertical-align: middle;\n",
       "    }\n",
       "\n",
       "    .dataframe tbody tr th {\n",
       "        vertical-align: top;\n",
       "    }\n",
       "\n",
       "    .dataframe thead th {\n",
       "        text-align: right;\n",
       "    }\n",
       "</style>\n",
       "<table border=\"1\" class=\"dataframe\">\n",
       "  <thead>\n",
       "    <tr style=\"text-align: right;\">\n",
       "      <th></th>\n",
       "      <th>box</th>\n",
       "      <th>text</th>\n",
       "      <th>label</th>\n",
       "      <th>words</th>\n",
       "      <th>linking</th>\n",
       "      <th>id</th>\n",
       "      <th>file</th>\n",
       "    </tr>\n",
       "  </thead>\n",
       "  <tbody>\n",
       "    <tr>\n",
       "      <th>11</th>\n",
       "      <td>[545, 21, 647, 117]</td>\n",
       "      <td>NaN</td>\n",
       "      <td>other</td>\n",
       "      <td>[{'box': [545, 21, 647, 117], 'text': ''}]</td>\n",
       "      <td>[]</td>\n",
       "      <td>11</td>\n",
       "      <td>71206427</td>\n",
       "    </tr>\n",
       "    <tr>\n",
       "      <th>16</th>\n",
       "      <td>[550, 216, 703, 325]</td>\n",
       "      <td>NaN</td>\n",
       "      <td>other</td>\n",
       "      <td>[{'text': '', 'box': [550, 222, 642, 302]}, {'...</td>\n",
       "      <td>[]</td>\n",
       "      <td>16</td>\n",
       "      <td>71206427</td>\n",
       "    </tr>\n",
       "    <tr>\n",
       "      <th>247</th>\n",
       "      <td>[496, 204, 502, 210]</td>\n",
       "      <td>NaN</td>\n",
       "      <td>question</td>\n",
       "      <td>[{'box': [496, 204, 502, 210], 'text': ''}]</td>\n",
       "      <td>[]</td>\n",
       "      <td>5</td>\n",
       "      <td>0001209043</td>\n",
       "    </tr>\n",
       "    <tr>\n",
       "      <th>340</th>\n",
       "      <td>[529, 149, 551, 159]</td>\n",
       "      <td>NaN</td>\n",
       "      <td>other</td>\n",
       "      <td>[{'box': [529, 149, 551, 159], 'text': ''}]</td>\n",
       "      <td>[]</td>\n",
       "      <td>26</td>\n",
       "      <td>0060262650</td>\n",
       "    </tr>\n",
       "    <tr>\n",
       "      <th>341</th>\n",
       "      <td>[552, 151, 574, 161]</td>\n",
       "      <td>NaN</td>\n",
       "      <td>other</td>\n",
       "      <td>[{'box': [552, 151, 574, 161], 'text': ''}]</td>\n",
       "      <td>[]</td>\n",
       "      <td>27</td>\n",
       "      <td>0060262650</td>\n",
       "    </tr>\n",
       "    <tr>\n",
       "      <th>...</th>\n",
       "      <td>...</td>\n",
       "      <td>...</td>\n",
       "      <td>...</td>\n",
       "      <td>...</td>\n",
       "      <td>...</td>\n",
       "      <td>...</td>\n",
       "      <td>...</td>\n",
       "    </tr>\n",
       "    <tr>\n",
       "      <th>7281</th>\n",
       "      <td>[260, 791, 281, 805]</td>\n",
       "      <td>NaN</td>\n",
       "      <td>other</td>\n",
       "      <td>[{'box': [260, 791, 281, 805], 'text': ''}]</td>\n",
       "      <td>[]</td>\n",
       "      <td>36</td>\n",
       "      <td>0001463282</td>\n",
       "    </tr>\n",
       "    <tr>\n",
       "      <th>7282</th>\n",
       "      <td>[243, 792, 260, 807]</td>\n",
       "      <td>NaN</td>\n",
       "      <td>other</td>\n",
       "      <td>[{'box': [243, 792, 260, 807], 'text': ''}]</td>\n",
       "      <td>[]</td>\n",
       "      <td>37</td>\n",
       "      <td>0001463282</td>\n",
       "    </tr>\n",
       "    <tr>\n",
       "      <th>7335</th>\n",
       "      <td>[230, 658, 376, 690]</td>\n",
       "      <td>NaN</td>\n",
       "      <td>answer</td>\n",
       "      <td>[{'text': '', 'box': [230, 658, 262, 680]}, {'...</td>\n",
       "      <td>[[83, 90]]</td>\n",
       "      <td>90</td>\n",
       "      <td>0001463282</td>\n",
       "    </tr>\n",
       "    <tr>\n",
       "      <th>7352</th>\n",
       "      <td>[203, 817, 216, 831]</td>\n",
       "      <td>NaN</td>\n",
       "      <td>other</td>\n",
       "      <td>[{'box': [203, 817, 216, 831], 'text': ''}]</td>\n",
       "      <td>[]</td>\n",
       "      <td>6</td>\n",
       "      <td>80310840a</td>\n",
       "    </tr>\n",
       "    <tr>\n",
       "      <th>7371</th>\n",
       "      <td>[197, 811, 381, 865]</td>\n",
       "      <td>NaN</td>\n",
       "      <td>other</td>\n",
       "      <td>[{'box': [197, 811, 381, 865], 'text': ''}]</td>\n",
       "      <td>[]</td>\n",
       "      <td>25</td>\n",
       "      <td>80310840a</td>\n",
       "    </tr>\n",
       "  </tbody>\n",
       "</table>\n",
       "<p>163 rows × 7 columns</p>\n",
       "</div>"
      ],
      "text/plain": [
       "                       box text     label  \\\n",
       "11     [545, 21, 647, 117]  NaN     other   \n",
       "16    [550, 216, 703, 325]  NaN     other   \n",
       "247   [496, 204, 502, 210]  NaN  question   \n",
       "340   [529, 149, 551, 159]  NaN     other   \n",
       "341   [552, 151, 574, 161]  NaN     other   \n",
       "...                    ...  ...       ...   \n",
       "7281  [260, 791, 281, 805]  NaN     other   \n",
       "7282  [243, 792, 260, 807]  NaN     other   \n",
       "7335  [230, 658, 376, 690]  NaN    answer   \n",
       "7352  [203, 817, 216, 831]  NaN     other   \n",
       "7371  [197, 811, 381, 865]  NaN     other   \n",
       "\n",
       "                                                  words     linking  id  \\\n",
       "11           [{'box': [545, 21, 647, 117], 'text': ''}]          []  11   \n",
       "16    [{'text': '', 'box': [550, 222, 642, 302]}, {'...          []  16   \n",
       "247         [{'box': [496, 204, 502, 210], 'text': ''}]          []   5   \n",
       "340         [{'box': [529, 149, 551, 159], 'text': ''}]          []  26   \n",
       "341         [{'box': [552, 151, 574, 161], 'text': ''}]          []  27   \n",
       "...                                                 ...         ...  ..   \n",
       "7281        [{'box': [260, 791, 281, 805], 'text': ''}]          []  36   \n",
       "7282        [{'box': [243, 792, 260, 807], 'text': ''}]          []  37   \n",
       "7335  [{'text': '', 'box': [230, 658, 262, 680]}, {'...  [[83, 90]]  90   \n",
       "7352        [{'box': [203, 817, 216, 831], 'text': ''}]          []   6   \n",
       "7371        [{'box': [197, 811, 381, 865], 'text': ''}]          []  25   \n",
       "\n",
       "            file  \n",
       "11      71206427  \n",
       "16      71206427  \n",
       "247   0001209043  \n",
       "340   0060262650  \n",
       "341   0060262650  \n",
       "...          ...  \n",
       "7281  0001463282  \n",
       "7282  0001463282  \n",
       "7335  0001463282  \n",
       "7352   80310840a  \n",
       "7371   80310840a  \n",
       "\n",
       "[163 rows x 7 columns]"
      ]
     },
     "execution_count": 7,
     "metadata": {},
     "output_type": "execute_result"
    }
   ],
   "source": [
    "train_df[train_df['text'].isna()]"
   ]
  },
  {
   "cell_type": "code",
   "execution_count": 8,
   "id": "25501b54",
   "metadata": {},
   "outputs": [
    {
     "data": {
      "text/plain": [
       "answer      81\n",
       "other       69\n",
       "question    13\n",
       "Name: label, dtype: int64"
      ]
     },
     "execution_count": 8,
     "metadata": {},
     "output_type": "execute_result"
    }
   ],
   "source": [
    "train_df[train_df['text'].isna()]['label'].value_counts()"
   ]
  },
  {
   "cell_type": "markdown",
   "id": "f7a2fd28",
   "metadata": {},
   "source": [
    "### Assumption\n",
    "If the column `linking` is not null, then label must be `question` or `answer`, otherwise it must be other or header. However I am not using this assumption right now, since I assume that `linking` is more expensive than `label` to label manually, so using it defeats the purpose of saving costs."
   ]
  },
  {
   "cell_type": "code",
   "execution_count": 9,
   "id": "6970b149",
   "metadata": {},
   "outputs": [
    {
     "data": {
      "text/plain": [
       "answer      2802\n",
       "question    2566\n",
       "header       248\n",
       "other         39\n",
       "Name: label, dtype: int64"
      ]
     },
     "execution_count": 9,
     "metadata": {},
     "output_type": "execute_result"
    }
   ],
   "source": [
    "train_df[train_df['linking'].map(len) > 2].label.value_counts()"
   ]
  },
  {
   "cell_type": "code",
   "execution_count": 10,
   "id": "27924073",
   "metadata": {},
   "outputs": [
    {
     "data": {
      "text/html": [
       "<div>\n",
       "<style scoped>\n",
       "    .dataframe tbody tr th:only-of-type {\n",
       "        vertical-align: middle;\n",
       "    }\n",
       "\n",
       "    .dataframe tbody tr th {\n",
       "        vertical-align: top;\n",
       "    }\n",
       "\n",
       "    .dataframe thead th {\n",
       "        text-align: right;\n",
       "    }\n",
       "</style>\n",
       "<table border=\"1\" class=\"dataframe\">\n",
       "  <thead>\n",
       "    <tr style=\"text-align: right;\">\n",
       "      <th></th>\n",
       "      <th>box</th>\n",
       "      <th>text</th>\n",
       "      <th>label</th>\n",
       "      <th>words</th>\n",
       "      <th>linking</th>\n",
       "      <th>id</th>\n",
       "      <th>file</th>\n",
       "    </tr>\n",
       "  </thead>\n",
       "  <tbody>\n",
       "    <tr>\n",
       "      <th>9</th>\n",
       "      <td>[101, 559, 196, 574]</td>\n",
       "      <td>SIGNATURES:</td>\n",
       "      <td>header</td>\n",
       "      <td>[{'box': [101, 559, 196, 574], 'text': 'SIGNAT...</td>\n",
       "      <td>[[9, 24], [9, 25], [9, 26], [9, 27], [9, 28]]</td>\n",
       "      <td>9</td>\n",
       "      <td>71206427</td>\n",
       "    </tr>\n",
       "    <tr>\n",
       "      <th>37</th>\n",
       "      <td>[216, 648, 289, 661]</td>\n",
       "      <td>Implement:</td>\n",
       "      <td>header</td>\n",
       "      <td>[{'box': [216, 648, 289, 661], 'text': 'Implem...</td>\n",
       "      <td>[[6, 34], [6, 35], [6, 36]]</td>\n",
       "      <td>6</td>\n",
       "      <td>0001123541</td>\n",
       "    </tr>\n",
       "    <tr>\n",
       "      <th>75</th>\n",
       "      <td>[487, 119, 624, 133]</td>\n",
       "      <td>SUBMISSION DATE</td>\n",
       "      <td>header</td>\n",
       "      <td>[{'text': 'SUBMISSION', 'box': [487, 119, 578,...</td>\n",
       "      <td>[[4, 5], [4, 6], [4, 7], [4, 8]]</td>\n",
       "      <td>4</td>\n",
       "      <td>92039708_9710</td>\n",
       "    </tr>\n",
       "    <tr>\n",
       "      <th>90</th>\n",
       "      <td>[94, 786, 661, 806]</td>\n",
       "      <td>Average Coupon Buydown Value On Targeted Brand...</td>\n",
       "      <td>header</td>\n",
       "      <td>[{'text': 'Average', 'box': [94, 786, 144, 801...</td>\n",
       "      <td>[[19, 20], [19, 21]]</td>\n",
       "      <td>19</td>\n",
       "      <td>92039708_9710</td>\n",
       "    </tr>\n",
       "    <tr>\n",
       "      <th>149</th>\n",
       "      <td>[21, 216, 67, 229]</td>\n",
       "      <td>REGION:</td>\n",
       "      <td>header</td>\n",
       "      <td>[{'box': [21, 216, 67, 229], 'text': 'REGION:'}]</td>\n",
       "      <td>[[7, 9], [7, 11]]</td>\n",
       "      <td>7</td>\n",
       "      <td>81619511_9513</td>\n",
       "    </tr>\n",
       "    <tr>\n",
       "      <th>...</th>\n",
       "      <td>...</td>\n",
       "      <td>...</td>\n",
       "      <td>...</td>\n",
       "      <td>...</td>\n",
       "      <td>...</td>\n",
       "      <td>...</td>\n",
       "      <td>...</td>\n",
       "    </tr>\n",
       "    <tr>\n",
       "      <th>7261</th>\n",
       "      <td>[75, 278, 150, 293]</td>\n",
       "      <td>PROJECTED:</td>\n",
       "      <td>header</td>\n",
       "      <td>[{'box': [75, 278, 150, 293], 'text': 'PROJECT...</td>\n",
       "      <td>[[16, 61], [16, 64], [16, 65], [16, 67]]</td>\n",
       "      <td>16</td>\n",
       "      <td>0001463282</td>\n",
       "    </tr>\n",
       "    <tr>\n",
       "      <th>7292</th>\n",
       "      <td>[311, 124, 496, 139]</td>\n",
       "      <td>Research Request Attached:</td>\n",
       "      <td>header</td>\n",
       "      <td>[{'text': 'Research', 'box': [311, 126, 368, 1...</td>\n",
       "      <td>[[47, 3], [47, 6]]</td>\n",
       "      <td>47</td>\n",
       "      <td>0001463282</td>\n",
       "    </tr>\n",
       "    <tr>\n",
       "      <th>7294</th>\n",
       "      <td>[80, 165, 299, 181]</td>\n",
       "      <td>Competitive Proposals Obtained:</td>\n",
       "      <td>header</td>\n",
       "      <td>[{'text': 'Competitive', 'box': [80, 166, 160,...</td>\n",
       "      <td>[[49, 10], [49, 11], [49, 13], [49, 53], [49, ...</td>\n",
       "      <td>49</td>\n",
       "      <td>0001463282</td>\n",
       "    </tr>\n",
       "    <tr>\n",
       "      <th>7314</th>\n",
       "      <td>[318, 275, 467, 294]</td>\n",
       "      <td>Summary of MRD Budget</td>\n",
       "      <td>header</td>\n",
       "      <td>[{'text': 'Summary', 'box': [318, 277, 370, 29...</td>\n",
       "      <td>[[69, 70], [69, 71], [69, 72], [69, 73], [69, ...</td>\n",
       "      <td>69</td>\n",
       "      <td>0001463282</td>\n",
       "    </tr>\n",
       "    <tr>\n",
       "      <th>7397</th>\n",
       "      <td>[70, 785, 162, 803]</td>\n",
       "      <td>Approved by:</td>\n",
       "      <td>header</td>\n",
       "      <td>[{'text': 'Approved', 'box': [70, 788, 138, 80...</td>\n",
       "      <td>[[51, 55], [51, 17], [51, 57], [51, 56]]</td>\n",
       "      <td>51</td>\n",
       "      <td>80310840a</td>\n",
       "    </tr>\n",
       "  </tbody>\n",
       "</table>\n",
       "<p>248 rows × 7 columns</p>\n",
       "</div>"
      ],
      "text/plain": [
       "                       box                                               text  \\\n",
       "9     [101, 559, 196, 574]                                        SIGNATURES:   \n",
       "37    [216, 648, 289, 661]                                         Implement:   \n",
       "75    [487, 119, 624, 133]                                    SUBMISSION DATE   \n",
       "90     [94, 786, 661, 806]  Average Coupon Buydown Value On Targeted Brand...   \n",
       "149     [21, 216, 67, 229]                                            REGION:   \n",
       "...                    ...                                                ...   \n",
       "7261   [75, 278, 150, 293]                                         PROJECTED:   \n",
       "7292  [311, 124, 496, 139]                         Research Request Attached:   \n",
       "7294   [80, 165, 299, 181]                    Competitive Proposals Obtained:   \n",
       "7314  [318, 275, 467, 294]                              Summary of MRD Budget   \n",
       "7397   [70, 785, 162, 803]                                       Approved by:   \n",
       "\n",
       "       label                                              words  \\\n",
       "9     header  [{'box': [101, 559, 196, 574], 'text': 'SIGNAT...   \n",
       "37    header  [{'box': [216, 648, 289, 661], 'text': 'Implem...   \n",
       "75    header  [{'text': 'SUBMISSION', 'box': [487, 119, 578,...   \n",
       "90    header  [{'text': 'Average', 'box': [94, 786, 144, 801...   \n",
       "149   header   [{'box': [21, 216, 67, 229], 'text': 'REGION:'}]   \n",
       "...      ...                                                ...   \n",
       "7261  header  [{'box': [75, 278, 150, 293], 'text': 'PROJECT...   \n",
       "7292  header  [{'text': 'Research', 'box': [311, 126, 368, 1...   \n",
       "7294  header  [{'text': 'Competitive', 'box': [80, 166, 160,...   \n",
       "7314  header  [{'text': 'Summary', 'box': [318, 277, 370, 29...   \n",
       "7397  header  [{'text': 'Approved', 'box': [70, 788, 138, 80...   \n",
       "\n",
       "                                                linking  id           file  \n",
       "9         [[9, 24], [9, 25], [9, 26], [9, 27], [9, 28]]   9       71206427  \n",
       "37                          [[6, 34], [6, 35], [6, 36]]   6     0001123541  \n",
       "75                     [[4, 5], [4, 6], [4, 7], [4, 8]]   4  92039708_9710  \n",
       "90                                 [[19, 20], [19, 21]]  19  92039708_9710  \n",
       "149                                   [[7, 9], [7, 11]]   7  81619511_9513  \n",
       "...                                                 ...  ..            ...  \n",
       "7261           [[16, 61], [16, 64], [16, 65], [16, 67]]  16     0001463282  \n",
       "7292                                 [[47, 3], [47, 6]]  47     0001463282  \n",
       "7294  [[49, 10], [49, 11], [49, 13], [49, 53], [49, ...  49     0001463282  \n",
       "7314  [[69, 70], [69, 71], [69, 72], [69, 73], [69, ...  69     0001463282  \n",
       "7397           [[51, 55], [51, 17], [51, 57], [51, 56]]  51      80310840a  \n",
       "\n",
       "[248 rows x 7 columns]"
      ]
     },
     "execution_count": 10,
     "metadata": {},
     "output_type": "execute_result"
    }
   ],
   "source": [
    "train_df[(train_df['linking'].map(len) > 2) & (train_df['label'] == 'header')]"
   ]
  },
  {
   "cell_type": "markdown",
   "id": "37bc9ec0",
   "metadata": {},
   "source": [
    "![](training_data/images/0001463282.png)"
   ]
  },
  {
   "cell_type": "markdown",
   "id": "227bdf99",
   "metadata": {},
   "source": [
    "### Assumption\n",
    "Empty string can have many different labels. Since they are only 163/7411 cases, we will ignore them for now."
   ]
  },
  {
   "cell_type": "code",
   "execution_count": 11,
   "id": "c55c5159",
   "metadata": {},
   "outputs": [
    {
     "data": {
      "text/plain": [
       "82254638         10\n",
       "00283813          7\n",
       "89368010          6\n",
       "12603270          6\n",
       "71366499          5\n",
       "                 ..\n",
       "0011859695        1\n",
       "00851772_1780     1\n",
       "80707440_7443     1\n",
       "0000989556        1\n",
       "92314414          1\n",
       "Name: file, Length: 72, dtype: int64"
      ]
     },
     "execution_count": 11,
     "metadata": {},
     "output_type": "execute_result"
    }
   ],
   "source": [
    "train_df[train_df['text'].isna()]['file'].value_counts()"
   ]
  },
  {
   "cell_type": "code",
   "execution_count": 12,
   "id": "fc948dc3",
   "metadata": {},
   "outputs": [
    {
     "data": {
      "text/html": [
       "<div>\n",
       "<style scoped>\n",
       "    .dataframe tbody tr th:only-of-type {\n",
       "        vertical-align: middle;\n",
       "    }\n",
       "\n",
       "    .dataframe tbody tr th {\n",
       "        vertical-align: top;\n",
       "    }\n",
       "\n",
       "    .dataframe thead th {\n",
       "        text-align: right;\n",
       "    }\n",
       "</style>\n",
       "<table border=\"1\" class=\"dataframe\">\n",
       "  <thead>\n",
       "    <tr style=\"text-align: right;\">\n",
       "      <th></th>\n",
       "      <th>box</th>\n",
       "      <th>text</th>\n",
       "      <th>label</th>\n",
       "      <th>words</th>\n",
       "      <th>linking</th>\n",
       "      <th>id</th>\n",
       "      <th>file</th>\n",
       "    </tr>\n",
       "  </thead>\n",
       "  <tbody>\n",
       "    <tr>\n",
       "      <th>3857</th>\n",
       "      <td>[221, 454, 246, 465]</td>\n",
       "      <td>NaN</td>\n",
       "      <td>answer</td>\n",
       "      <td>[{'box': [221, 454, 246, 465], 'text': ''}]</td>\n",
       "      <td>[[42, 6]]</td>\n",
       "      <td>6</td>\n",
       "      <td>82254638</td>\n",
       "    </tr>\n",
       "    <tr>\n",
       "      <th>3858</th>\n",
       "      <td>[223, 468, 247, 482]</td>\n",
       "      <td>NaN</td>\n",
       "      <td>answer</td>\n",
       "      <td>[{'box': [223, 468, 247, 482], 'text': ''}]</td>\n",
       "      <td>[[43, 7]]</td>\n",
       "      <td>7</td>\n",
       "      <td>82254638</td>\n",
       "    </tr>\n",
       "    <tr>\n",
       "      <th>3859</th>\n",
       "      <td>[612, 451, 647, 472]</td>\n",
       "      <td>NaN</td>\n",
       "      <td>answer</td>\n",
       "      <td>[{'box': [612, 451, 647, 472], 'text': ''}]</td>\n",
       "      <td>[[51, 8]]</td>\n",
       "      <td>8</td>\n",
       "      <td>82254638</td>\n",
       "    </tr>\n",
       "    <tr>\n",
       "      <th>3873</th>\n",
       "      <td>[352, 381, 503, 423]</td>\n",
       "      <td>NaN</td>\n",
       "      <td>other</td>\n",
       "      <td>[{'box': [352, 381, 503, 423], 'text': ''}]</td>\n",
       "      <td>[]</td>\n",
       "      <td>22</td>\n",
       "      <td>82254638</td>\n",
       "    </tr>\n",
       "    <tr>\n",
       "      <th>3874</th>\n",
       "      <td>[219, 483, 246, 494]</td>\n",
       "      <td>NaN</td>\n",
       "      <td>other</td>\n",
       "      <td>[{'box': [219, 483, 246, 494], 'text': ''}]</td>\n",
       "      <td>[]</td>\n",
       "      <td>23</td>\n",
       "      <td>82254638</td>\n",
       "    </tr>\n",
       "    <tr>\n",
       "      <th>3875</th>\n",
       "      <td>[413, 494, 445, 508]</td>\n",
       "      <td>NaN</td>\n",
       "      <td>other</td>\n",
       "      <td>[{'box': [413, 494, 445, 508], 'text': ''}]</td>\n",
       "      <td>[]</td>\n",
       "      <td>24</td>\n",
       "      <td>82254638</td>\n",
       "    </tr>\n",
       "    <tr>\n",
       "      <th>3876</th>\n",
       "      <td>[415, 468, 447, 479]</td>\n",
       "      <td>NaN</td>\n",
       "      <td>other</td>\n",
       "      <td>[{'box': [415, 468, 447, 479], 'text': ''}]</td>\n",
       "      <td>[]</td>\n",
       "      <td>25</td>\n",
       "      <td>82254638</td>\n",
       "    </tr>\n",
       "    <tr>\n",
       "      <th>3877</th>\n",
       "      <td>[608, 437, 646, 451]</td>\n",
       "      <td>NaN</td>\n",
       "      <td>other</td>\n",
       "      <td>[{'box': [608, 437, 646, 451], 'text': ''}]</td>\n",
       "      <td>[]</td>\n",
       "      <td>26</td>\n",
       "      <td>82254638</td>\n",
       "    </tr>\n",
       "    <tr>\n",
       "      <th>3879</th>\n",
       "      <td>[415, 439, 449, 452]</td>\n",
       "      <td>NaN</td>\n",
       "      <td>other</td>\n",
       "      <td>[{'box': [415, 439, 449, 452], 'text': ''}]</td>\n",
       "      <td>[]</td>\n",
       "      <td>28</td>\n",
       "      <td>82254638</td>\n",
       "    </tr>\n",
       "    <tr>\n",
       "      <th>3913</th>\n",
       "      <td>[469, 694, 700, 769]</td>\n",
       "      <td>NaN</td>\n",
       "      <td>other</td>\n",
       "      <td>[{'text': '', 'box': [649, 696, 664, 710]}, {'...</td>\n",
       "      <td>[]</td>\n",
       "      <td>62</td>\n",
       "      <td>82254638</td>\n",
       "    </tr>\n",
       "  </tbody>\n",
       "</table>\n",
       "</div>"
      ],
      "text/plain": [
       "                       box text   label  \\\n",
       "3857  [221, 454, 246, 465]  NaN  answer   \n",
       "3858  [223, 468, 247, 482]  NaN  answer   \n",
       "3859  [612, 451, 647, 472]  NaN  answer   \n",
       "3873  [352, 381, 503, 423]  NaN   other   \n",
       "3874  [219, 483, 246, 494]  NaN   other   \n",
       "3875  [413, 494, 445, 508]  NaN   other   \n",
       "3876  [415, 468, 447, 479]  NaN   other   \n",
       "3877  [608, 437, 646, 451]  NaN   other   \n",
       "3879  [415, 439, 449, 452]  NaN   other   \n",
       "3913  [469, 694, 700, 769]  NaN   other   \n",
       "\n",
       "                                                  words    linking  id  \\\n",
       "3857        [{'box': [221, 454, 246, 465], 'text': ''}]  [[42, 6]]   6   \n",
       "3858        [{'box': [223, 468, 247, 482], 'text': ''}]  [[43, 7]]   7   \n",
       "3859        [{'box': [612, 451, 647, 472], 'text': ''}]  [[51, 8]]   8   \n",
       "3873        [{'box': [352, 381, 503, 423], 'text': ''}]         []  22   \n",
       "3874        [{'box': [219, 483, 246, 494], 'text': ''}]         []  23   \n",
       "3875        [{'box': [413, 494, 445, 508], 'text': ''}]         []  24   \n",
       "3876        [{'box': [415, 468, 447, 479], 'text': ''}]         []  25   \n",
       "3877        [{'box': [608, 437, 646, 451], 'text': ''}]         []  26   \n",
       "3879        [{'box': [415, 439, 449, 452], 'text': ''}]         []  28   \n",
       "3913  [{'text': '', 'box': [649, 696, 664, 710]}, {'...         []  62   \n",
       "\n",
       "          file  \n",
       "3857  82254638  \n",
       "3858  82254638  \n",
       "3859  82254638  \n",
       "3873  82254638  \n",
       "3874  82254638  \n",
       "3875  82254638  \n",
       "3876  82254638  \n",
       "3877  82254638  \n",
       "3879  82254638  \n",
       "3913  82254638  "
      ]
     },
     "execution_count": 12,
     "metadata": {},
     "output_type": "execute_result"
    }
   ],
   "source": [
    "train_df[(train_df['file'] == '82254638') & (train_df['text'].isna())]"
   ]
  },
  {
   "cell_type": "markdown",
   "id": "4279a645",
   "metadata": {},
   "source": [
    "![](training_data/images/82254638.png)"
   ]
  },
  {
   "cell_type": "markdown",
   "id": "dc437804",
   "metadata": {},
   "source": [
    "### Assumption:\n",
    "Drop question with one word"
   ]
  },
  {
   "cell_type": "code",
   "execution_count": 13,
   "id": "67c66e94",
   "metadata": {},
   "outputs": [
    {
     "data": {
      "text/plain": [
       "answer      208\n",
       "other        62\n",
       "question     26\n",
       "header        1\n",
       "Name: label, dtype: int64"
      ]
     },
     "execution_count": 13,
     "metadata": {},
     "output_type": "execute_result"
    }
   ],
   "source": [
    "train_df[train_df['text'].str.len()==1]['label'].value_counts()"
   ]
  },
  {
   "cell_type": "code",
   "execution_count": 14,
   "id": "6cb7300a",
   "metadata": {},
   "outputs": [
    {
     "data": {
      "text/html": [
       "<div>\n",
       "<style scoped>\n",
       "    .dataframe tbody tr th:only-of-type {\n",
       "        vertical-align: middle;\n",
       "    }\n",
       "\n",
       "    .dataframe tbody tr th {\n",
       "        vertical-align: top;\n",
       "    }\n",
       "\n",
       "    .dataframe thead th {\n",
       "        text-align: right;\n",
       "    }\n",
       "</style>\n",
       "<table border=\"1\" class=\"dataframe\">\n",
       "  <thead>\n",
       "    <tr style=\"text-align: right;\">\n",
       "      <th></th>\n",
       "      <th>box</th>\n",
       "      <th>text</th>\n",
       "      <th>label</th>\n",
       "      <th>words</th>\n",
       "      <th>linking</th>\n",
       "      <th>id</th>\n",
       "      <th>file</th>\n",
       "    </tr>\n",
       "  </thead>\n",
       "  <tbody>\n",
       "    <tr>\n",
       "      <th>4955</th>\n",
       "      <td>[568, 168, 578, 178]</td>\n",
       "      <td>☑</td>\n",
       "      <td>header</td>\n",
       "      <td>[{'box': [568, 168, 578, 178], 'text': '☑'}]</td>\n",
       "      <td>[[2, 1]]</td>\n",
       "      <td>2</td>\n",
       "      <td>00851772_1780</td>\n",
       "    </tr>\n",
       "  </tbody>\n",
       "</table>\n",
       "</div>"
      ],
      "text/plain": [
       "                       box text   label  \\\n",
       "4955  [568, 168, 578, 178]    ☑  header   \n",
       "\n",
       "                                             words   linking  id  \\\n",
       "4955  [{'box': [568, 168, 578, 178], 'text': '☑'}]  [[2, 1]]   2   \n",
       "\n",
       "               file  \n",
       "4955  00851772_1780  "
      ]
     },
     "execution_count": 14,
     "metadata": {},
     "output_type": "execute_result"
    }
   ],
   "source": [
    "train_df[(train_df['text'].str.len()==1) & (train_df['label']=='header')]"
   ]
  },
  {
   "cell_type": "code",
   "execution_count": 15,
   "id": "1b10f8b0",
   "metadata": {},
   "outputs": [
    {
     "data": {
      "text/html": [
       "<div>\n",
       "<style scoped>\n",
       "    .dataframe tbody tr th:only-of-type {\n",
       "        vertical-align: middle;\n",
       "    }\n",
       "\n",
       "    .dataframe tbody tr th {\n",
       "        vertical-align: top;\n",
       "    }\n",
       "\n",
       "    .dataframe thead th {\n",
       "        text-align: right;\n",
       "    }\n",
       "</style>\n",
       "<table border=\"1\" class=\"dataframe\">\n",
       "  <thead>\n",
       "    <tr style=\"text-align: right;\">\n",
       "      <th></th>\n",
       "      <th>box</th>\n",
       "      <th>text</th>\n",
       "      <th>label</th>\n",
       "      <th>words</th>\n",
       "      <th>linking</th>\n",
       "      <th>id</th>\n",
       "      <th>file</th>\n",
       "    </tr>\n",
       "  </thead>\n",
       "  <tbody>\n",
       "    <tr>\n",
       "      <th>4768</th>\n",
       "      <td>[219, 316, 225, 327]</td>\n",
       "      <td>:</td>\n",
       "      <td>question</td>\n",
       "      <td>[{'box': [219, 316, 225, 327], 'text': ':'}]</td>\n",
       "      <td>[]</td>\n",
       "      <td>1</td>\n",
       "      <td>0000971160</td>\n",
       "    </tr>\n",
       "    <tr>\n",
       "      <th>7169</th>\n",
       "      <td>[365, 212, 380, 222]</td>\n",
       "      <td>6</td>\n",
       "      <td>question</td>\n",
       "      <td>[{'box': [365, 212, 380, 222], 'text': '6'}]</td>\n",
       "      <td>[]</td>\n",
       "      <td>10</td>\n",
       "      <td>0011906503</td>\n",
       "    </tr>\n",
       "    <tr>\n",
       "      <th>7167</th>\n",
       "      <td>[365, 237, 377, 252]</td>\n",
       "      <td>7</td>\n",
       "      <td>question</td>\n",
       "      <td>[{'box': [365, 237, 377, 252], 'text': '7'}]</td>\n",
       "      <td>[]</td>\n",
       "      <td>8</td>\n",
       "      <td>0011906503</td>\n",
       "    </tr>\n",
       "    <tr>\n",
       "      <th>7166</th>\n",
       "      <td>[74, 236, 85, 247]</td>\n",
       "      <td>4</td>\n",
       "      <td>question</td>\n",
       "      <td>[{'box': [74, 236, 85, 247], 'text': '4'}]</td>\n",
       "      <td>[]</td>\n",
       "      <td>7</td>\n",
       "      <td>0011906503</td>\n",
       "    </tr>\n",
       "    <tr>\n",
       "      <th>7165</th>\n",
       "      <td>[74, 221, 84, 235]</td>\n",
       "      <td>3</td>\n",
       "      <td>question</td>\n",
       "      <td>[{'box': [74, 221, 84, 235], 'text': '3'}]</td>\n",
       "      <td>[]</td>\n",
       "      <td>6</td>\n",
       "      <td>0011906503</td>\n",
       "    </tr>\n",
       "    <tr>\n",
       "      <th>7164</th>\n",
       "      <td>[74, 207, 84, 219]</td>\n",
       "      <td>2</td>\n",
       "      <td>question</td>\n",
       "      <td>[{'box': [74, 207, 84, 219], 'text': '2'}]</td>\n",
       "      <td>[]</td>\n",
       "      <td>5</td>\n",
       "      <td>0011906503</td>\n",
       "    </tr>\n",
       "    <tr>\n",
       "      <th>7163</th>\n",
       "      <td>[75, 193, 85, 204]</td>\n",
       "      <td>1</td>\n",
       "      <td>question</td>\n",
       "      <td>[{'box': [75, 193, 85, 204], 'text': '1'}]</td>\n",
       "      <td>[]</td>\n",
       "      <td>4</td>\n",
       "      <td>0011906503</td>\n",
       "    </tr>\n",
       "    <tr>\n",
       "      <th>7168</th>\n",
       "      <td>[364, 197, 375, 211]</td>\n",
       "      <td>5</td>\n",
       "      <td>question</td>\n",
       "      <td>[{'box': [364, 197, 375, 211], 'text': '5'}]</td>\n",
       "      <td>[]</td>\n",
       "      <td>9</td>\n",
       "      <td>0011906503</td>\n",
       "    </tr>\n",
       "    <tr>\n",
       "      <th>2049</th>\n",
       "      <td>[114, 850, 125, 862]</td>\n",
       "      <td>-</td>\n",
       "      <td>question</td>\n",
       "      <td>[{'box': [114, 850, 125, 862], 'text': '-'}]</td>\n",
       "      <td>[]</td>\n",
       "      <td>20</td>\n",
       "      <td>0012529295</td>\n",
       "    </tr>\n",
       "    <tr>\n",
       "      <th>4621</th>\n",
       "      <td>[476, 205, 487, 226]</td>\n",
       "      <td>$</td>\n",
       "      <td>question</td>\n",
       "      <td>[{'box': [476, 205, 487, 226], 'text': '$'}]</td>\n",
       "      <td>[]</td>\n",
       "      <td>8</td>\n",
       "      <td>0012602424</td>\n",
       "    </tr>\n",
       "    <tr>\n",
       "      <th>4622</th>\n",
       "      <td>[476, 258, 486, 278]</td>\n",
       "      <td>$</td>\n",
       "      <td>question</td>\n",
       "      <td>[{'box': [476, 258, 486, 278], 'text': '$'}]</td>\n",
       "      <td>[]</td>\n",
       "      <td>9</td>\n",
       "      <td>0012602424</td>\n",
       "    </tr>\n",
       "    <tr>\n",
       "      <th>4616</th>\n",
       "      <td>[161, 175, 172, 192]</td>\n",
       "      <td>$</td>\n",
       "      <td>question</td>\n",
       "      <td>[{'box': [161, 175, 172, 192], 'text': '$'}]</td>\n",
       "      <td>[]</td>\n",
       "      <td>3</td>\n",
       "      <td>0012602424</td>\n",
       "    </tr>\n",
       "    <tr>\n",
       "      <th>4620</th>\n",
       "      <td>[476, 177, 489, 197]</td>\n",
       "      <td>$</td>\n",
       "      <td>question</td>\n",
       "      <td>[{'box': [476, 177, 489, 197], 'text': '$'}]</td>\n",
       "      <td>[]</td>\n",
       "      <td>7</td>\n",
       "      <td>0012602424</td>\n",
       "    </tr>\n",
       "    <tr>\n",
       "      <th>6532</th>\n",
       "      <td>[194, 859, 200, 866]</td>\n",
       "      <td>-</td>\n",
       "      <td>question</td>\n",
       "      <td>[{'box': [194, 859, 200, 866], 'text': '-'}]</td>\n",
       "      <td>[]</td>\n",
       "      <td>13</td>\n",
       "      <td>0060270727</td>\n",
       "    </tr>\n",
       "    <tr>\n",
       "      <th>6530</th>\n",
       "      <td>[176, 715, 183, 721]</td>\n",
       "      <td>-</td>\n",
       "      <td>question</td>\n",
       "      <td>[{'box': [176, 715, 183, 721], 'text': '-'}]</td>\n",
       "      <td>[]</td>\n",
       "      <td>11</td>\n",
       "      <td>0060270727</td>\n",
       "    </tr>\n",
       "    <tr>\n",
       "      <th>6531</th>\n",
       "      <td>[176, 743, 184, 749]</td>\n",
       "      <td>-</td>\n",
       "      <td>question</td>\n",
       "      <td>[{'box': [176, 743, 184, 749], 'text': '-'}]</td>\n",
       "      <td>[]</td>\n",
       "      <td>12</td>\n",
       "      <td>0060270727</td>\n",
       "    </tr>\n",
       "    <tr>\n",
       "      <th>6528</th>\n",
       "      <td>[176, 627, 186, 633]</td>\n",
       "      <td>-</td>\n",
       "      <td>question</td>\n",
       "      <td>[{'box': [176, 627, 186, 633], 'text': '-'}]</td>\n",
       "      <td>[]</td>\n",
       "      <td>9</td>\n",
       "      <td>0060270727</td>\n",
       "    </tr>\n",
       "    <tr>\n",
       "      <th>6529</th>\n",
       "      <td>[194, 684, 201, 692]</td>\n",
       "      <td>-</td>\n",
       "      <td>question</td>\n",
       "      <td>[{'box': [194, 684, 201, 692], 'text': '-'}]</td>\n",
       "      <td>[]</td>\n",
       "      <td>10</td>\n",
       "      <td>0060270727</td>\n",
       "    </tr>\n",
       "    <tr>\n",
       "      <th>2646</th>\n",
       "      <td>[330, 675, 337, 690]</td>\n",
       "      <td>$</td>\n",
       "      <td>question</td>\n",
       "      <td>[{'box': [330, 675, 337, 690], 'text': '$'}]</td>\n",
       "      <td>[]</td>\n",
       "      <td>39</td>\n",
       "      <td>11508234</td>\n",
       "    </tr>\n",
       "    <tr>\n",
       "      <th>4804</th>\n",
       "      <td>[448, 328, 459, 338]</td>\n",
       "      <td>☐</td>\n",
       "      <td>question</td>\n",
       "      <td>[{'box': [448, 328, 459, 338], 'text': '☐'}]</td>\n",
       "      <td>[[52, 13]]</td>\n",
       "      <td>13</td>\n",
       "      <td>13149651</td>\n",
       "    </tr>\n",
       "    <tr>\n",
       "      <th>4803</th>\n",
       "      <td>[448, 316, 458, 326]</td>\n",
       "      <td>☐</td>\n",
       "      <td>question</td>\n",
       "      <td>[{'box': [448, 316, 458, 326], 'text': '☐'}]</td>\n",
       "      <td>[[52, 12]]</td>\n",
       "      <td>12</td>\n",
       "      <td>13149651</td>\n",
       "    </tr>\n",
       "    <tr>\n",
       "      <th>4051</th>\n",
       "      <td>[510, 215, 523, 223]</td>\n",
       "      <td>☐</td>\n",
       "      <td>question</td>\n",
       "      <td>[{'box': [510, 215, 523, 223], 'text': '☐'}]</td>\n",
       "      <td>[]</td>\n",
       "      <td>9</td>\n",
       "      <td>716552</td>\n",
       "    </tr>\n",
       "    <tr>\n",
       "      <th>2283</th>\n",
       "      <td>[503, 605, 514, 619]</td>\n",
       "      <td>%</td>\n",
       "      <td>question</td>\n",
       "      <td>[{'box': [503, 605, 514, 619], 'text': '%'}]</td>\n",
       "      <td>[[8, 21], [8, 22], [8, 24], [8, 23]]</td>\n",
       "      <td>8</td>\n",
       "      <td>81749056_9057</td>\n",
       "    </tr>\n",
       "    <tr>\n",
       "      <th>2282</th>\n",
       "      <td>[309, 610, 323, 624]</td>\n",
       "      <td>%</td>\n",
       "      <td>question</td>\n",
       "      <td>[{'box': [309, 610, 323, 624], 'text': '%'}]</td>\n",
       "      <td>[[7, 13], [7, 14], [7, 15], [7, 16]]</td>\n",
       "      <td>7</td>\n",
       "      <td>81749056_9057</td>\n",
       "    </tr>\n",
       "    <tr>\n",
       "      <th>3336</th>\n",
       "      <td>[370, 358, 377, 365]</td>\n",
       "      <td>T</td>\n",
       "      <td>question</td>\n",
       "      <td>[{'box': [370, 358, 377, 365], 'text': 'T'}]</td>\n",
       "      <td>[]</td>\n",
       "      <td>11</td>\n",
       "      <td>87672097</td>\n",
       "    </tr>\n",
       "    <tr>\n",
       "      <th>3568</th>\n",
       "      <td>[425, 452, 435, 467]</td>\n",
       "      <td>%</td>\n",
       "      <td>question</td>\n",
       "      <td>[{'box': [425, 452, 435, 467], 'text': '%'}]</td>\n",
       "      <td>[[21, 7], [21, 9], [21, 11], [21, 13], [21, 15...</td>\n",
       "      <td>21</td>\n",
       "      <td>92081358_1359</td>\n",
       "    </tr>\n",
       "  </tbody>\n",
       "</table>\n",
       "</div>"
      ],
      "text/plain": [
       "                       box text     label  \\\n",
       "4768  [219, 316, 225, 327]    :  question   \n",
       "7169  [365, 212, 380, 222]    6  question   \n",
       "7167  [365, 237, 377, 252]    7  question   \n",
       "7166    [74, 236, 85, 247]    4  question   \n",
       "7165    [74, 221, 84, 235]    3  question   \n",
       "7164    [74, 207, 84, 219]    2  question   \n",
       "7163    [75, 193, 85, 204]    1  question   \n",
       "7168  [364, 197, 375, 211]    5  question   \n",
       "2049  [114, 850, 125, 862]    -  question   \n",
       "4621  [476, 205, 487, 226]    $  question   \n",
       "4622  [476, 258, 486, 278]    $  question   \n",
       "4616  [161, 175, 172, 192]    $  question   \n",
       "4620  [476, 177, 489, 197]    $  question   \n",
       "6532  [194, 859, 200, 866]    -  question   \n",
       "6530  [176, 715, 183, 721]    -  question   \n",
       "6531  [176, 743, 184, 749]    -  question   \n",
       "6528  [176, 627, 186, 633]    -  question   \n",
       "6529  [194, 684, 201, 692]    -  question   \n",
       "2646  [330, 675, 337, 690]    $  question   \n",
       "4804  [448, 328, 459, 338]    ☐  question   \n",
       "4803  [448, 316, 458, 326]    ☐  question   \n",
       "4051  [510, 215, 523, 223]    ☐  question   \n",
       "2283  [503, 605, 514, 619]    %  question   \n",
       "2282  [309, 610, 323, 624]    %  question   \n",
       "3336  [370, 358, 377, 365]    T  question   \n",
       "3568  [425, 452, 435, 467]    %  question   \n",
       "\n",
       "                                             words  \\\n",
       "4768  [{'box': [219, 316, 225, 327], 'text': ':'}]   \n",
       "7169  [{'box': [365, 212, 380, 222], 'text': '6'}]   \n",
       "7167  [{'box': [365, 237, 377, 252], 'text': '7'}]   \n",
       "7166    [{'box': [74, 236, 85, 247], 'text': '4'}]   \n",
       "7165    [{'box': [74, 221, 84, 235], 'text': '3'}]   \n",
       "7164    [{'box': [74, 207, 84, 219], 'text': '2'}]   \n",
       "7163    [{'box': [75, 193, 85, 204], 'text': '1'}]   \n",
       "7168  [{'box': [364, 197, 375, 211], 'text': '5'}]   \n",
       "2049  [{'box': [114, 850, 125, 862], 'text': '-'}]   \n",
       "4621  [{'box': [476, 205, 487, 226], 'text': '$'}]   \n",
       "4622  [{'box': [476, 258, 486, 278], 'text': '$'}]   \n",
       "4616  [{'box': [161, 175, 172, 192], 'text': '$'}]   \n",
       "4620  [{'box': [476, 177, 489, 197], 'text': '$'}]   \n",
       "6532  [{'box': [194, 859, 200, 866], 'text': '-'}]   \n",
       "6530  [{'box': [176, 715, 183, 721], 'text': '-'}]   \n",
       "6531  [{'box': [176, 743, 184, 749], 'text': '-'}]   \n",
       "6528  [{'box': [176, 627, 186, 633], 'text': '-'}]   \n",
       "6529  [{'box': [194, 684, 201, 692], 'text': '-'}]   \n",
       "2646  [{'box': [330, 675, 337, 690], 'text': '$'}]   \n",
       "4804  [{'box': [448, 328, 459, 338], 'text': '☐'}]   \n",
       "4803  [{'box': [448, 316, 458, 326], 'text': '☐'}]   \n",
       "4051  [{'box': [510, 215, 523, 223], 'text': '☐'}]   \n",
       "2283  [{'box': [503, 605, 514, 619], 'text': '%'}]   \n",
       "2282  [{'box': [309, 610, 323, 624], 'text': '%'}]   \n",
       "3336  [{'box': [370, 358, 377, 365], 'text': 'T'}]   \n",
       "3568  [{'box': [425, 452, 435, 467], 'text': '%'}]   \n",
       "\n",
       "                                                linking  id           file  \n",
       "4768                                                 []   1     0000971160  \n",
       "7169                                                 []  10     0011906503  \n",
       "7167                                                 []   8     0011906503  \n",
       "7166                                                 []   7     0011906503  \n",
       "7165                                                 []   6     0011906503  \n",
       "7164                                                 []   5     0011906503  \n",
       "7163                                                 []   4     0011906503  \n",
       "7168                                                 []   9     0011906503  \n",
       "2049                                                 []  20     0012529295  \n",
       "4621                                                 []   8     0012602424  \n",
       "4622                                                 []   9     0012602424  \n",
       "4616                                                 []   3     0012602424  \n",
       "4620                                                 []   7     0012602424  \n",
       "6532                                                 []  13     0060270727  \n",
       "6530                                                 []  11     0060270727  \n",
       "6531                                                 []  12     0060270727  \n",
       "6528                                                 []   9     0060270727  \n",
       "6529                                                 []  10     0060270727  \n",
       "2646                                                 []  39       11508234  \n",
       "4804                                         [[52, 13]]  13       13149651  \n",
       "4803                                         [[52, 12]]  12       13149651  \n",
       "4051                                                 []   9         716552  \n",
       "2283               [[8, 21], [8, 22], [8, 24], [8, 23]]   8  81749056_9057  \n",
       "2282               [[7, 13], [7, 14], [7, 15], [7, 16]]   7  81749056_9057  \n",
       "3336                                                 []  11       87672097  \n",
       "3568  [[21, 7], [21, 9], [21, 11], [21, 13], [21, 15...  21  92081358_1359  "
      ]
     },
     "execution_count": 15,
     "metadata": {},
     "output_type": "execute_result"
    }
   ],
   "source": [
    "one_word_question_slice = train_df[(train_df['text'].str.len()==1) & (train_df['label']=='question')]\n",
    "one_word_question_slice.sort_values('file')"
   ]
  },
  {
   "cell_type": "code",
   "execution_count": 16,
   "id": "1c65dfa8",
   "metadata": {},
   "outputs": [
    {
     "data": {
      "text/plain": [
       "['0000971160',\n",
       " '0011906503',\n",
       " '0012529295',\n",
       " '0012602424',\n",
       " '0060270727',\n",
       " '11508234',\n",
       " '13149651',\n",
       " '716552',\n",
       " '81749056_9057',\n",
       " '87672097',\n",
       " '92081358_1359']"
      ]
     },
     "execution_count": 16,
     "metadata": {},
     "output_type": "execute_result"
    }
   ],
   "source": [
    "sorted(list(set(one_word_question_slice['file'])))"
   ]
  },
  {
   "cell_type": "markdown",
   "id": "864fd928",
   "metadata": {},
   "source": [
    "![](training_data/images/0000971160.png)\n",
    "\n",
    "`:` as question, should be the part before that\n",
    "\n",
    "---\n",
    "![](training_data/images/0011906503.png)\n",
    "\n",
    "Numbers as question, which is misguided\n",
    "\n",
    "---\n",
    "![](training_data/images/0012529295.png)\n",
    "\n",
    "`-` as question\n",
    "\n",
    "---\n",
    "\n",
    "![](training_data/images/0012602424.png)\n",
    "\n",
    "`$` as question\n",
    "\n",
    "---\n",
    "\n",
    "![](training_data/images/0060270727.png)\n",
    "\n",
    "`-` as question\n",
    "\n",
    "---\n",
    "\n",
    "![](training_data/images/11508234.png)\n",
    "`$` as question\n",
    "\n",
    "---\n",
    "\n",
    "![](training_data/images/13149651.png)\n",
    "\n",
    "Square as question\n",
    "\n",
    "![](training_data/images/716552.png)\n",
    "![](training_data/images/81749056_9057.png)\n",
    "![](training_data/images/87672097.png)\n",
    "![](training_data/images/92081358_1359.png)\n",
    "\n",
    "`%` as question"
   ]
  },
  {
   "cell_type": "code",
   "execution_count": 81,
   "id": "f8c41dbc",
   "metadata": {},
   "outputs": [
    {
     "data": {
      "text/plain": [
       "Index(['box', 'text', 'label', 'words', 'linking', 'id', 'file'], dtype='object')"
      ]
     },
     "execution_count": 81,
     "metadata": {},
     "output_type": "execute_result"
    }
   ],
   "source": [
    "train_df.columns"
   ]
  },
  {
   "cell_type": "code",
   "execution_count": 82,
   "id": "ed42a79b",
   "metadata": {},
   "outputs": [],
   "source": [
    "non_nan_train_df = train_df.dropna()"
   ]
  },
  {
   "cell_type": "code",
   "execution_count": 83,
   "id": "445c68e9",
   "metadata": {},
   "outputs": [
    {
     "data": {
      "text/plain": [
       "question    10\n",
       "header       5\n",
       "Name: label, dtype: int64"
      ]
     },
     "execution_count": 83,
     "metadata": {},
     "output_type": "execute_result"
    }
   ],
   "source": [
    "non_nan_train_df[non_nan_train_df['text'].str.contains('?', regex=False)]['label'].value_counts()"
   ]
  },
  {
   "cell_type": "code",
   "execution_count": 84,
   "id": "27482ce3",
   "metadata": {},
   "outputs": [
    {
     "data": {
      "text/plain": [
       "question    963\n",
       "header      123\n",
       "answer       27\n",
       "other        22\n",
       "Name: label, dtype: int64"
      ]
     },
     "execution_count": 84,
     "metadata": {},
     "output_type": "execute_result"
    }
   ],
   "source": [
    "non_nan_train_df[non_nan_train_df['text'].str.contains(':', regex=False)]['label'].value_counts()"
   ]
  },
  {
   "cell_type": "code",
   "execution_count": 85,
   "id": "f7b80bce",
   "metadata": {},
   "outputs": [
    {
     "data": {
      "text/plain": [
       "answer      34\n",
       "question    22\n",
       "other       12\n",
       "header       2\n",
       "Name: label, dtype: int64"
      ]
     },
     "execution_count": 85,
     "metadata": {},
     "output_type": "execute_result"
    }
   ],
   "source": [
    "non_nan_train_df[non_nan_train_df['text'].str.contains('*', regex=False)]['label'].value_counts()"
   ]
  },
  {
   "cell_type": "code",
   "execution_count": 86,
   "id": "41b6745a",
   "metadata": {},
   "outputs": [],
   "source": [
    "from ast import literal_eval"
   ]
  },
  {
   "cell_type": "code",
   "execution_count": 87,
   "id": "5d1540a3",
   "metadata": {},
   "outputs": [],
   "source": [
    "box_to_coordinates = pd.DataFrame(non_nan_train_df['box'].map(literal_eval).tolist(), \n",
    "                                  columns=['x1', 'y1', 'x2', 'y2'], index=non_nan_train_df.index)"
   ]
  },
  {
   "cell_type": "code",
   "execution_count": 89,
   "id": "a2eb0bde",
   "metadata": {},
   "outputs": [],
   "source": [
    "non_nan_train_df_w_coord = pd.concat([non_nan_train_df, box_to_coordinates], axis=1)"
   ]
  },
  {
   "cell_type": "code",
   "execution_count": 90,
   "id": "ed9932c0",
   "metadata": {},
   "outputs": [
    {
     "data": {
      "text/plain": [
       "box        0\n",
       "text       0\n",
       "label      0\n",
       "words      0\n",
       "linking    0\n",
       "id         0\n",
       "file       0\n",
       "x1         0\n",
       "y1         0\n",
       "x2         0\n",
       "y2         0\n",
       "dtype: int64"
      ]
     },
     "execution_count": 90,
     "metadata": {},
     "output_type": "execute_result"
    }
   ],
   "source": [
    "non_nan_train_df_w_coord.isna().sum()"
   ]
  },
  {
   "cell_type": "code",
   "execution_count": 94,
   "id": "65d56214",
   "metadata": {},
   "outputs": [
    {
     "data": {
      "text/plain": [
       "<AxesSubplot: >"
      ]
     },
     "execution_count": 94,
     "metadata": {},
     "output_type": "execute_result"
    },
    {
     "data": {
      "image/png": "[encoded data removed]",
      "text/plain": [
       "<Figure size 640x480 with 1 Axes>"
      ]
     },
     "metadata": {},
     "output_type": "display_data"
    }
   ],
   "source": [
    "non_nan_train_df_w_coord[non_nan_train_df_w_coord['label']=='header']['y1'].hist()"
   ]
  },
  {
   "cell_type": "code",
   "execution_count": 99,
   "id": "f57d8e45",
   "metadata": {},
   "outputs": [
    {
     "data": {
      "text/plain": [
       "<AxesSubplot: >"
      ]
     },
     "execution_count": 99,
     "metadata": {},
     "output_type": "execute_result"
    },
    {
     "data": {
      "image/png": "[encoded data removed]",
      "text/plain": [
       "<Figure size 640x480 with 1 Axes>"
      ]
     },
     "metadata": {},
     "output_type": "display_data"
    }
   ],
   "source": [
    "non_nan_train_df_w_coord[non_nan_train_df_w_coord['label']=='other']['y1'].hist()"
   ]
  },
  {
   "cell_type": "code",
   "execution_count": 101,
   "id": "62ddda88",
   "metadata": {},
   "outputs": [
    {
     "data": {
      "text/plain": [
       "<AxesSubplot: >"
      ]
     },
     "execution_count": 101,
     "metadata": {},
     "output_type": "execute_result"
    },
    {
     "data": {
      "image/png": "[encoded data removed]",
      "text/plain": [
       "<Figure size 640x480 with 1 Axes>"
      ]
     },
     "metadata": {},
     "output_type": "display_data"
    }
   ],
   "source": [
    "non_nan_train_df_w_coord[non_nan_train_df_w_coord['label']=='question']['y1'].hist()"
   ]
  },
  {
   "cell_type": "code",
   "execution_count": 100,
   "id": "e7e90c3f",
   "metadata": {},
   "outputs": [
    {
     "data": {
      "text/plain": [
       "<AxesSubplot: >"
      ]
     },
     "execution_count": 100,
     "metadata": {},
     "output_type": "execute_result"
    },
    {
     "data": {
      "image/png": "[encoded data removed]",
      "text/plain": [
       "<Figure size 640x480 with 1 Axes>"
      ]
     },
     "metadata": {},
     "output_type": "display_data"
    }
   ],
   "source": [
    "non_nan_train_df_w_coord[non_nan_train_df_w_coord['label']=='answer']['y1'].hist()"
   ]
  }
 ],
 "metadata": {
  "kernelspec": {
   "display_name": "Python 3 (ipykernel)",
   "language": "python",
   "name": "python3"
  },
  "language_info": {
   "codemirror_mode": {
    "name": "ipython",
    "version": 3
   },
   "file_extension": ".py",
   "mimetype": "text/x-python",
   "name": "python",
   "nbconvert_exporter": "python",
   "pygments_lexer": "ipython3",
   "version": "3.9.12"
  },
  "vscode": {
   "interpreter": {
    "hash": "bc56a23bccbe5aceb3052fbf4cfaff87eb4b620654d0523699a9ffb8cad4c286"
   }
  }
 },
 "nbformat": 4,
 "nbformat_minor": 5
}
