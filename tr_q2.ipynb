{
 "cells": [
  {
   "cell_type": "markdown",
   "metadata": {},
   "source": [
    "## TR question 2"
   ]
  },
  {
   "cell_type": "markdown",
   "metadata": {},
   "source": [
    "Note: This requires running tr_q1 first\n",
    "\n",
    "The order of the notebook is as follow, \n",
    "- Split train val test class\n",
    "- Define a baseline\n",
    "- Train model"
   ]
  },
  {
   "cell_type": "code",
   "execution_count": 1,
   "metadata": {},
   "outputs": [
    {
     "name": "stderr",
     "output_type": "stream",
     "text": [
      "c:\\Users\\ext.minh.triet.chau\\code\\dstest\\venv\\lib\\site-packages\\tqdm\\auto.py:21: TqdmWarning: IProgress not found. Please update jupyter and ipywidgets. See https://ipywidgets.readthedocs.io/en/stable/user_install.html\n",
      "  from .autonotebook import tqdm as notebook_tqdm\n"
     ]
    }
   ],
   "source": [
    "from transformers import AutoTokenizer, AutoModelForSequenceClassification, DataCollatorWithPadding\n",
    "from sklearn.model_selection import train_test_split\n",
    "from sklearn.metrics import multilabel_confusion_matrix, f1_score\n",
    "from sklearn.preprocessing import MultiLabelBinarizer\n",
    "import numpy as np\n",
    "from typing import Dict\n",
    "import pandas as pd\n",
    "import os\n",
    "from transformers import Trainer, TrainingArguments\n",
    "\n",
    "from datasets import Dataset\n",
    "\n",
    "seed = 42\n",
    "MAX_LENGTH = 512\n",
    "NUM_DATAPOINT = 100"
   ]
  },
  {
   "cell_type": "markdown",
   "metadata": {},
   "source": [
    "I take the headtext and firsts characters of each paragraph and concatenatem together, such that each row in the dataset are representend by `MAX_LENGTH` characters"
   ]
  },
  {
   "cell_type": "markdown",
   "metadata": {},
   "source": [
    "### Create a dataset"
   ]
  },
  {
   "cell_type": "code",
   "execution_count": 2,
   "metadata": {},
   "outputs": [],
   "source": [
    "file_path = 'TRDataChallenge2023.zip'\n",
    "extract_file_path = 'TRDataChallenge2023'\n",
    "df = pd.read_json(os.path.join(extract_file_path, f\"{extract_file_path}.txt\"), lines=True)\n",
    "df = df.sample(231, random_state=42).reset_index(drop=True)"
   ]
  },
  {
   "cell_type": "code",
   "execution_count": 3,
   "metadata": {},
   "outputs": [
    {
     "data": {
      "text/html": [
       "<div>\n",
       "<style scoped>\n",
       "    .dataframe tbody tr th:only-of-type {\n",
       "        vertical-align: middle;\n",
       "    }\n",
       "\n",
       "    .dataframe tbody tr th {\n",
       "        vertical-align: top;\n",
       "    }\n",
       "\n",
       "    .dataframe thead th {\n",
       "        text-align: right;\n",
       "    }\n",
       "</style>\n",
       "<table border=\"1\" class=\"dataframe\">\n",
       "  <thead>\n",
       "    <tr style=\"text-align: right;\">\n",
       "      <th></th>\n",
       "      <th>documentId</th>\n",
       "      <th>postures</th>\n",
       "      <th>sections</th>\n",
       "    </tr>\n",
       "  </thead>\n",
       "  <tbody>\n",
       "    <tr>\n",
       "      <th>0</th>\n",
       "      <td>I03d70fc0ce3311e8ae6bb4b0ae8dca5a</td>\n",
       "      <td>[Motion to Dismiss for Lack of Subject Matter ...</td>\n",
       "      <td>[{'headtext': '', 'paragraphs': ['RANDOLPH, Se...</td>\n",
       "    </tr>\n",
       "    <tr>\n",
       "      <th>1</th>\n",
       "      <td>I07f7893067c611ea9354eec9e02fecda</td>\n",
       "      <td>[Appellate Review]</td>\n",
       "      <td>[{'headtext': 'MEMORANDUM AND ORDER', 'paragra...</td>\n",
       "    </tr>\n",
       "    <tr>\n",
       "      <th>2</th>\n",
       "      <td>Icf2416a2abce11e6b92bf4314c15140f</td>\n",
       "      <td>[Motion to Renew, On Appeal]</td>\n",
       "      <td>[{'headtext': '', 'paragraphs': ['Appeal from ...</td>\n",
       "    </tr>\n",
       "    <tr>\n",
       "      <th>3</th>\n",
       "      <td>Ic4f83620286111e8b25db53553f40f1b</td>\n",
       "      <td>[Review of Administrative Decision]</td>\n",
       "      <td>[{'headtext': 'MEMORANDUM AND JUDGMENT', 'para...</td>\n",
       "    </tr>\n",
       "    <tr>\n",
       "      <th>4</th>\n",
       "      <td>Ia1075bf0779411e998e8870e22e55653</td>\n",
       "      <td>[Appellate Review, Post-Trial Hearing Motion, ...</td>\n",
       "      <td>[{'headtext': 'OPINION', 'paragraphs': ['A pro...</td>\n",
       "    </tr>\n",
       "    <tr>\n",
       "      <th>...</th>\n",
       "      <td>...</td>\n",
       "      <td>...</td>\n",
       "      <td>...</td>\n",
       "    </tr>\n",
       "    <tr>\n",
       "      <th>226</th>\n",
       "      <td>I71667ece6ba311e2a531ef6793d44951</td>\n",
       "      <td>[Review of Administrative Decision]</td>\n",
       "      <td>[{'headtext': '', 'paragraphs': ['Appeal from ...</td>\n",
       "    </tr>\n",
       "    <tr>\n",
       "      <th>227</th>\n",
       "      <td>I6c50c6d0528211e9bed9c2929f452c46</td>\n",
       "      <td>[On Appeal, Petition to Terminate Parental Rig...</td>\n",
       "      <td>[{'headtext': 'MEMORANDUM OPINION', 'paragraph...</td>\n",
       "    </tr>\n",
       "    <tr>\n",
       "      <th>228</th>\n",
       "      <td>I428bd080630b11e98c7a8e995225dbf9</td>\n",
       "      <td>[Review of Administrative Decision]</td>\n",
       "      <td>[{'headtext': 'OPINION AND ORDER ', 'paragraph...</td>\n",
       "    </tr>\n",
       "    <tr>\n",
       "      <th>229</th>\n",
       "      <td>I1b207830a00a11e888e382e865ea2ff8</td>\n",
       "      <td>[Motion for Contempt, On Appeal]</td>\n",
       "      <td>[{'headtext': '', 'paragraphs': ['[¶1] Frank A...</td>\n",
       "    </tr>\n",
       "    <tr>\n",
       "      <th>230</th>\n",
       "      <td>Ie2b4f880490011eabc45f109510a2b00</td>\n",
       "      <td>[Appellate Review, Trial or Guilt Phase Motion...</td>\n",
       "      <td>[{'headtext': '', 'paragraphs': ['On February ...</td>\n",
       "    </tr>\n",
       "  </tbody>\n",
       "</table>\n",
       "<p>231 rows × 3 columns</p>\n",
       "</div>"
      ],
      "text/plain": [
       "                            documentId  \\\n",
       "0    I03d70fc0ce3311e8ae6bb4b0ae8dca5a   \n",
       "1    I07f7893067c611ea9354eec9e02fecda   \n",
       "2    Icf2416a2abce11e6b92bf4314c15140f   \n",
       "3    Ic4f83620286111e8b25db53553f40f1b   \n",
       "4    Ia1075bf0779411e998e8870e22e55653   \n",
       "..                                 ...   \n",
       "226  I71667ece6ba311e2a531ef6793d44951   \n",
       "227  I6c50c6d0528211e9bed9c2929f452c46   \n",
       "228  I428bd080630b11e98c7a8e995225dbf9   \n",
       "229  I1b207830a00a11e888e382e865ea2ff8   \n",
       "230  Ie2b4f880490011eabc45f109510a2b00   \n",
       "\n",
       "                                              postures  \\\n",
       "0    [Motion to Dismiss for Lack of Subject Matter ...   \n",
       "1                                   [Appellate Review]   \n",
       "2                         [Motion to Renew, On Appeal]   \n",
       "3                  [Review of Administrative Decision]   \n",
       "4    [Appellate Review, Post-Trial Hearing Motion, ...   \n",
       "..                                                 ...   \n",
       "226                [Review of Administrative Decision]   \n",
       "227  [On Appeal, Petition to Terminate Parental Rig...   \n",
       "228                [Review of Administrative Decision]   \n",
       "229                   [Motion for Contempt, On Appeal]   \n",
       "230  [Appellate Review, Trial or Guilt Phase Motion...   \n",
       "\n",
       "                                              sections  \n",
       "0    [{'headtext': '', 'paragraphs': ['RANDOLPH, Se...  \n",
       "1    [{'headtext': 'MEMORANDUM AND ORDER', 'paragra...  \n",
       "2    [{'headtext': '', 'paragraphs': ['Appeal from ...  \n",
       "3    [{'headtext': 'MEMORANDUM AND JUDGMENT', 'para...  \n",
       "4    [{'headtext': 'OPINION', 'paragraphs': ['A pro...  \n",
       "..                                                 ...  \n",
       "226  [{'headtext': '', 'paragraphs': ['Appeal from ...  \n",
       "227  [{'headtext': 'MEMORANDUM OPINION', 'paragraph...  \n",
       "228  [{'headtext': 'OPINION AND ORDER ', 'paragraph...  \n",
       "229  [{'headtext': '', 'paragraphs': ['[¶1] Frank A...  \n",
       "230  [{'headtext': '', 'paragraphs': ['On February ...  \n",
       "\n",
       "[231 rows x 3 columns]"
      ]
     },
     "execution_count": 3,
     "metadata": {},
     "output_type": "execute_result"
    }
   ],
   "source": [
    "df"
   ]
  },
  {
   "cell_type": "markdown",
   "metadata": {},
   "source": [
    "Normally we `fit_transform` in the train set and `transform` on the test set. However here I `fit_transform` in the whole dataset to cover all of the labels, because some of them only have one instance (See first notebook)"
   ]
  },
  {
   "cell_type": "code",
   "execution_count": 4,
   "metadata": {},
   "outputs": [],
   "source": [
    "mlb = MultiLabelBinarizer()\n",
    "labels = pd.Series(np.array(mlb.fit_transform(df[\"postures\"].values), dtype=\"float\").tolist(), name=\"label_ids\")"
   ]
  },
  {
   "cell_type": "code",
   "execution_count": 5,
   "metadata": {},
   "outputs": [],
   "source": [
    "df['label_ids'] = labels"
   ]
  },
  {
   "cell_type": "code",
   "execution_count": 6,
   "metadata": {},
   "outputs": [],
   "source": [
    "def clean_up_strings(max_len, sections):\n",
    "    \"\"\"\n",
    "    Remove the \\\\u and clean up texts\n",
    "    \"\"\"\n",
    "    cleaned_sections = []\n",
    "    chars_per_section = max_len // len(sections)\n",
    "    for section in sections:            \n",
    "        cleaned_text = \"\"\n",
    "        headtext = [section['headtext'].encode(\"ascii\", \"ignore\").decode().strip()]\n",
    "        cleaned_paragraph = [paragraph.encode(\"ascii\", \"ignore\").decode().strip() for paragraph in section['paragraphs']]\n",
    "        cleaned_text += \". \".join(headtext + cleaned_paragraph)        \n",
    "        \n",
    "        if (len(cleaned_text) < chars_per_section):\n",
    "            cleaned_sections.append(cleaned_text[:len(cleaned_text)])\n",
    "        else:\n",
    "            last_space_index = cleaned_text[:chars_per_section].rfind(' ')\n",
    "            cleaned_sections.append(cleaned_text[:last_space_index])  # last element that is a space\n",
    "\n",
    "    cleaned_sections = '. '.join(cleaned_sections)\n",
    "\n",
    "    return cleaned_sections"
   ]
  },
  {
   "cell_type": "code",
   "execution_count": 7,
   "metadata": {},
   "outputs": [],
   "source": [
    "def test_clean_up_strings():\n",
    "    # Test the function with a basic scenario\n",
    "    max_len = 50\n",
    "    sections = [\n",
    "        {\n",
    "            'headtext': \"Sample Headline\",\n",
    "            'paragraphs': [\"This is the first paragraph.\"]\n",
    "        },\n",
    "        {\n",
    "            'headtext': \"Sample Headline\",\n",
    "            'paragraphs': [\"Second paragraph.\"]\n",
    "        }\n",
    "    ]\n",
    "    cleaned_sections = clean_up_strings(max_len, sections)    \n",
    "    expected_result = 'Sample Headline. This is. Sample Headline. Second'    \n",
    "    assert cleaned_sections == expected_result\n",
    "\n",
    "test_clean_up_strings()"
   ]
  },
  {
   "cell_type": "code",
   "execution_count": 8,
   "metadata": {},
   "outputs": [
    {
     "data": {
      "text/plain": [
       "documentId    0\n",
       "postures      0\n",
       "sections      0\n",
       "label_ids     0\n",
       "dtype: int64"
      ]
     },
     "execution_count": 8,
     "metadata": {},
     "output_type": "execute_result"
    }
   ],
   "source": [
    "df.isna().sum()"
   ]
  },
  {
   "cell_type": "code",
   "execution_count": 9,
   "metadata": {},
   "outputs": [],
   "source": [
    "df[\"cleaned_text\"] = df['sections'].map(lambda x: clean_up_strings(MAX_LENGTH, x))"
   ]
  },
  {
   "cell_type": "code",
   "execution_count": 10,
   "metadata": {},
   "outputs": [
    {
     "data": {
      "text/html": [
       "<div>\n",
       "<style scoped>\n",
       "    .dataframe tbody tr th:only-of-type {\n",
       "        vertical-align: middle;\n",
       "    }\n",
       "\n",
       "    .dataframe tbody tr th {\n",
       "        vertical-align: top;\n",
       "    }\n",
       "\n",
       "    .dataframe thead th {\n",
       "        text-align: right;\n",
       "    }\n",
       "</style>\n",
       "<table border=\"1\" class=\"dataframe\">\n",
       "  <thead>\n",
       "    <tr style=\"text-align: right;\">\n",
       "      <th></th>\n",
       "      <th>documentId</th>\n",
       "      <th>postures</th>\n",
       "      <th>sections</th>\n",
       "      <th>label_ids</th>\n",
       "      <th>cleaned_text</th>\n",
       "    </tr>\n",
       "  </thead>\n",
       "  <tbody>\n",
       "    <tr>\n",
       "      <th>0</th>\n",
       "      <td>I03d70fc0ce3311e8ae6bb4b0ae8dca5a</td>\n",
       "      <td>[Motion to Dismiss for Lack of Subject Matter ...</td>\n",
       "      <td>[{'headtext': '', 'paragraphs': ['RANDOLPH, Se...</td>\n",
       "      <td>[0.0, 0.0, 0.0, 0.0, 0.0, 0.0, 0.0, 0.0, 0.0, ...</td>\n",
       "      <td>. RANDOLPH, Senior Circuit Judge: Frank Palaci...</td>\n",
       "    </tr>\n",
       "    <tr>\n",
       "      <th>1</th>\n",
       "      <td>I07f7893067c611ea9354eec9e02fecda</td>\n",
       "      <td>[Appellate Review]</td>\n",
       "      <td>[{'headtext': 'MEMORANDUM AND ORDER', 'paragra...</td>\n",
       "      <td>[1.0, 0.0, 0.0, 0.0, 0.0, 0.0, 0.0, 0.0, 0.0, ...</td>\n",
       "      <td>MEMORANDUM AND ORDER. In 2013, defendant plead...</td>\n",
       "    </tr>\n",
       "    <tr>\n",
       "      <th>2</th>\n",
       "      <td>Icf2416a2abce11e6b92bf4314c15140f</td>\n",
       "      <td>[Motion to Renew, On Appeal]</td>\n",
       "      <td>[{'headtext': '', 'paragraphs': ['Appeal from ...</td>\n",
       "      <td>[0.0, 0.0, 0.0, 0.0, 0.0, 0.0, 0.0, 0.0, 0.0, ...</td>\n",
       "      <td>. Appeal from an order of the Supreme Court, K...</td>\n",
       "    </tr>\n",
       "    <tr>\n",
       "      <th>3</th>\n",
       "      <td>Ic4f83620286111e8b25db53553f40f1b</td>\n",
       "      <td>[Review of Administrative Decision]</td>\n",
       "      <td>[{'headtext': 'MEMORANDUM AND JUDGMENT', 'para...</td>\n",
       "      <td>[0.0, 0.0, 0.0, 0.0, 0.0, 0.0, 0.0, 0.0, 0.0, ...</td>\n",
       "      <td>MEMORANDUM AND JUDGMENT. Proceeding pursuant t...</td>\n",
       "    </tr>\n",
       "    <tr>\n",
       "      <th>4</th>\n",
       "      <td>Ia1075bf0779411e998e8870e22e55653</td>\n",
       "      <td>[Appellate Review, Post-Trial Hearing Motion, ...</td>\n",
       "      <td>[{'headtext': 'OPINION', 'paragraphs': ['A pro...</td>\n",
       "      <td>[1.0, 0.0, 0.0, 0.0, 0.0, 0.0, 0.0, 0.0, 0.0, ...</td>\n",
       "      <td>OPINION. A prosecutor. I.BACKGROUND. After a. ...</td>\n",
       "    </tr>\n",
       "    <tr>\n",
       "      <th>...</th>\n",
       "      <td>...</td>\n",
       "      <td>...</td>\n",
       "      <td>...</td>\n",
       "      <td>...</td>\n",
       "      <td>...</td>\n",
       "    </tr>\n",
       "    <tr>\n",
       "      <th>226</th>\n",
       "      <td>I71667ece6ba311e2a531ef6793d44951</td>\n",
       "      <td>[Review of Administrative Decision]</td>\n",
       "      <td>[{'headtext': '', 'paragraphs': ['Appeal from ...</td>\n",
       "      <td>[0.0, 0.0, 0.0, 0.0, 0.0, 0.0, 0.0, 0.0, 0.0, ...</td>\n",
       "      <td>. Appeal from a decision of the Workers' Compe...</td>\n",
       "    </tr>\n",
       "    <tr>\n",
       "      <th>227</th>\n",
       "      <td>I6c50c6d0528211e9bed9c2929f452c46</td>\n",
       "      <td>[On Appeal, Petition to Terminate Parental Rig...</td>\n",
       "      <td>[{'headtext': 'MEMORANDUM OPINION', 'paragraph...</td>\n",
       "      <td>[0.0, 0.0, 0.0, 0.0, 0.0, 0.0, 0.0, 0.0, 0.0, ...</td>\n",
       "      <td>MEMORANDUM OPINION. Father appeals the termina...</td>\n",
       "    </tr>\n",
       "    <tr>\n",
       "      <th>228</th>\n",
       "      <td>I428bd080630b11e98c7a8e995225dbf9</td>\n",
       "      <td>[Review of Administrative Decision]</td>\n",
       "      <td>[{'headtext': 'OPINION AND ORDER ', 'paragraph...</td>\n",
       "      <td>[0.0, 0.0, 0.0, 0.0, 0.0, 0.0, 0.0, 0.0, 0.0, ...</td>\n",
       "      <td>OPINION AND ORDER. Plaintiff Sherry Ann Keiper...</td>\n",
       "    </tr>\n",
       "    <tr>\n",
       "      <th>229</th>\n",
       "      <td>I1b207830a00a11e888e382e865ea2ff8</td>\n",
       "      <td>[Motion for Contempt, On Appeal]</td>\n",
       "      <td>[{'headtext': '', 'paragraphs': ['[¶1] Frank A...</td>\n",
       "      <td>[0.0, 0.0, 0.0, 0.0, 0.0, 0.0, 1.0, 0.0, 0.0, ...</td>\n",
       "      <td>. [1] Frank A. Deede challenges an order denyi...</td>\n",
       "    </tr>\n",
       "    <tr>\n",
       "      <th>230</th>\n",
       "      <td>Ie2b4f880490011eabc45f109510a2b00</td>\n",
       "      <td>[Appellate Review, Trial or Guilt Phase Motion...</td>\n",
       "      <td>[{'headtext': '', 'paragraphs': ['On February ...</td>\n",
       "      <td>[1.0, 0.0, 0.0, 0.0, 0.0, 0.0, 0.0, 0.0, 0.0, ...</td>\n",
       "      <td>. On February 5, 2015, the defendant broke int...</td>\n",
       "    </tr>\n",
       "  </tbody>\n",
       "</table>\n",
       "<p>231 rows × 5 columns</p>\n",
       "</div>"
      ],
      "text/plain": [
       "                            documentId  \\\n",
       "0    I03d70fc0ce3311e8ae6bb4b0ae8dca5a   \n",
       "1    I07f7893067c611ea9354eec9e02fecda   \n",
       "2    Icf2416a2abce11e6b92bf4314c15140f   \n",
       "3    Ic4f83620286111e8b25db53553f40f1b   \n",
       "4    Ia1075bf0779411e998e8870e22e55653   \n",
       "..                                 ...   \n",
       "226  I71667ece6ba311e2a531ef6793d44951   \n",
       "227  I6c50c6d0528211e9bed9c2929f452c46   \n",
       "228  I428bd080630b11e98c7a8e995225dbf9   \n",
       "229  I1b207830a00a11e888e382e865ea2ff8   \n",
       "230  Ie2b4f880490011eabc45f109510a2b00   \n",
       "\n",
       "                                              postures  \\\n",
       "0    [Motion to Dismiss for Lack of Subject Matter ...   \n",
       "1                                   [Appellate Review]   \n",
       "2                         [Motion to Renew, On Appeal]   \n",
       "3                  [Review of Administrative Decision]   \n",
       "4    [Appellate Review, Post-Trial Hearing Motion, ...   \n",
       "..                                                 ...   \n",
       "226                [Review of Administrative Decision]   \n",
       "227  [On Appeal, Petition to Terminate Parental Rig...   \n",
       "228                [Review of Administrative Decision]   \n",
       "229                   [Motion for Contempt, On Appeal]   \n",
       "230  [Appellate Review, Trial or Guilt Phase Motion...   \n",
       "\n",
       "                                              sections  \\\n",
       "0    [{'headtext': '', 'paragraphs': ['RANDOLPH, Se...   \n",
       "1    [{'headtext': 'MEMORANDUM AND ORDER', 'paragra...   \n",
       "2    [{'headtext': '', 'paragraphs': ['Appeal from ...   \n",
       "3    [{'headtext': 'MEMORANDUM AND JUDGMENT', 'para...   \n",
       "4    [{'headtext': 'OPINION', 'paragraphs': ['A pro...   \n",
       "..                                                 ...   \n",
       "226  [{'headtext': '', 'paragraphs': ['Appeal from ...   \n",
       "227  [{'headtext': 'MEMORANDUM OPINION', 'paragraph...   \n",
       "228  [{'headtext': 'OPINION AND ORDER ', 'paragraph...   \n",
       "229  [{'headtext': '', 'paragraphs': ['[¶1] Frank A...   \n",
       "230  [{'headtext': '', 'paragraphs': ['On February ...   \n",
       "\n",
       "                                             label_ids  \\\n",
       "0    [0.0, 0.0, 0.0, 0.0, 0.0, 0.0, 0.0, 0.0, 0.0, ...   \n",
       "1    [1.0, 0.0, 0.0, 0.0, 0.0, 0.0, 0.0, 0.0, 0.0, ...   \n",
       "2    [0.0, 0.0, 0.0, 0.0, 0.0, 0.0, 0.0, 0.0, 0.0, ...   \n",
       "3    [0.0, 0.0, 0.0, 0.0, 0.0, 0.0, 0.0, 0.0, 0.0, ...   \n",
       "4    [1.0, 0.0, 0.0, 0.0, 0.0, 0.0, 0.0, 0.0, 0.0, ...   \n",
       "..                                                 ...   \n",
       "226  [0.0, 0.0, 0.0, 0.0, 0.0, 0.0, 0.0, 0.0, 0.0, ...   \n",
       "227  [0.0, 0.0, 0.0, 0.0, 0.0, 0.0, 0.0, 0.0, 0.0, ...   \n",
       "228  [0.0, 0.0, 0.0, 0.0, 0.0, 0.0, 0.0, 0.0, 0.0, ...   \n",
       "229  [0.0, 0.0, 0.0, 0.0, 0.0, 0.0, 1.0, 0.0, 0.0, ...   \n",
       "230  [1.0, 0.0, 0.0, 0.0, 0.0, 0.0, 0.0, 0.0, 0.0, ...   \n",
       "\n",
       "                                          cleaned_text  \n",
       "0    . RANDOLPH, Senior Circuit Judge: Frank Palaci...  \n",
       "1    MEMORANDUM AND ORDER. In 2013, defendant plead...  \n",
       "2    . Appeal from an order of the Supreme Court, K...  \n",
       "3    MEMORANDUM AND JUDGMENT. Proceeding pursuant t...  \n",
       "4    OPINION. A prosecutor. I.BACKGROUND. After a. ...  \n",
       "..                                                 ...  \n",
       "226  . Appeal from a decision of the Workers' Compe...  \n",
       "227  MEMORANDUM OPINION. Father appeals the termina...  \n",
       "228  OPINION AND ORDER. Plaintiff Sherry Ann Keiper...  \n",
       "229  . [1] Frank A. Deede challenges an order denyi...  \n",
       "230  . On February 5, 2015, the defendant broke int...  \n",
       "\n",
       "[231 rows x 5 columns]"
      ]
     },
     "execution_count": 10,
     "metadata": {},
     "output_type": "execute_result"
    }
   ],
   "source": [
    "df"
   ]
  },
  {
   "cell_type": "markdown",
   "metadata": {},
   "source": [
    "### Create a dataset"
   ]
  },
  {
   "cell_type": "code",
   "execution_count": 11,
   "metadata": {},
   "outputs": [
    {
     "name": "stderr",
     "output_type": "stream",
     "text": [
      "Some weights of XLMRobertaForSequenceClassification were not initialized from the model checkpoint at poltextlab/xlm-roberta-large-english-legal-cap and are newly initialized because the shapes did not match:\n",
      "- classifier.out_proj.weight: found shape torch.Size([22, 1024]) in the checkpoint and torch.Size([52, 1024]) in the model instantiated\n",
      "- classifier.out_proj.bias: found shape torch.Size([22]) in the checkpoint and torch.Size([52]) in the model instantiated\n",
      "You should probably TRAIN this model on a down-stream task to be able to use it for predictions and inference.\n"
     ]
    }
   ],
   "source": [
    "tokenizer = AutoTokenizer.from_pretrained('xlm-roberta-large')\n",
    "model = AutoModelForSequenceClassification.from_pretrained('poltextlab/xlm-roberta-large-english-legal-cap',\n",
    "                                                           num_labels= len(mlb.classes_),\n",
    "                                                           problem_type=\"multi_label_classification\",\n",
    "                                                           ignore_mismatched_sizes=True)"
   ]
  },
  {
   "cell_type": "code",
   "execution_count": 12,
   "metadata": {},
   "outputs": [],
   "source": [
    "def tokenize(examples):\n",
    "    encoding = tokenizer(examples[\"cleaned_text\"], padding=\"max_length\", truncation=True, max_length=512)    \n",
    "    \n",
    "    return encoding"
   ]
  },
  {
   "cell_type": "code",
   "execution_count": 13,
   "metadata": {},
   "outputs": [
    {
     "name": "stderr",
     "output_type": "stream",
     "text": [
      "Map:   0%|          | 0/231 [00:00<?, ? examples/s]"
     ]
    },
    {
     "name": "stderr",
     "output_type": "stream",
     "text": [
      "Map: 100%|██████████| 231/231 [00:00<00:00, 1374.85 examples/s]\n"
     ]
    }
   ],
   "source": [
    "\n",
    "train_dataset = Dataset.from_pandas(df)\n",
    "tokenized_datasets = train_dataset.map(tokenize)\n",
    "tokenized_datasets = tokenized_datasets.train_test_split(test_size=0.2, seed=seed)\n"
   ]
  },
  {
   "cell_type": "markdown",
   "metadata": {},
   "source": [
    "### Train"
   ]
  },
  {
   "cell_type": "code",
   "execution_count": 14,
   "metadata": {},
   "outputs": [],
   "source": [
    "data_collator = DataCollatorWithPadding(tokenizer=tokenizer, return_tensors=\"pt\")\n"
   ]
  },
  {
   "cell_type": "code",
   "execution_count": 15,
   "metadata": {},
   "outputs": [
    {
     "name": "stderr",
     "output_type": "stream",
     "text": [
      "  0%|          | 0/186 [00:00<?, ?it/s]You're using a XLMRobertaTokenizerFast tokenizer. Please note that with a fast tokenizer, using the `__call__` method is faster than using a method to encode the text followed by a call to the `pad` method to get a padded encoding.\n",
      "  9%|▉         | 17/186 [05:21<1:02:26, 22.17s/it]"
     ]
    }
   ],
   "source": [
    "\n",
    "training_args = TrainingArguments(\n",
    "    per_device_train_batch_size=3,\n",
    "    output_dir='./output', \n",
    "    save_total_limit=2,\n",
    "    evaluation_strategy=\"steps\",\n",
    "    eval_steps=500,\n",
    "    logging_dir='./logs',\n",
    "    seed=seed\n",
    ")\n",
    "\n",
    "trainer = Trainer(\n",
    "    model=model,\n",
    "    args=training_args,\n",
    "    data_collator=data_collator,\n",
    "    train_dataset=tokenized_datasets[\"train\"],\n",
    "    eval_dataset=tokenized_datasets[\"test\"],\n",
    ")\n",
    "\n",
    "trainer.train()"
   ]
  },
  {
   "cell_type": "markdown",
   "metadata": {},
   "source": [
    "### Evaluation"
   ]
  },
  {
   "cell_type": "markdown",
   "metadata": {},
   "source": [
    "#### From model"
   ]
  },
  {
   "cell_type": "code",
   "execution_count": null,
   "metadata": {},
   "outputs": [
    {
     "name": "stderr",
     "output_type": "stream",
     "text": [
      "100%|██████████| 1/1 [00:00<?, ?it/s]\n"
     ]
    }
   ],
   "source": [
    "results = trainer.predict(tokenized_datasets[\"test\"])"
   ]
  },
  {
   "cell_type": "code",
   "execution_count": null,
   "metadata": {},
   "outputs": [],
   "source": [
    "values = np.argmax(results.predictions, axis=1)\n",
    "n_values = len(mlb.classes_)\n",
    "prediction = np.eye(n_values)[values]"
   ]
  },
  {
   "cell_type": "code",
   "execution_count": null,
   "metadata": {},
   "outputs": [
    {
     "name": "stderr",
     "output_type": "stream",
     "text": [
      "c:\\Users\\ext.minh.triet.chau\\code\\dstest\\venv\\lib\\site-packages\\sklearn\\metrics\\_classification.py:1757: UndefinedMetricWarning: F-score is ill-defined and being set to 0.0 in labels with no true nor predicted samples. Use `zero_division` parameter to control this behavior.\n",
      "  _warn_prf(average, \"true nor predicted\", \"F-score is\", len(true_sum))\n"
     ]
    },
    {
     "data": {
      "text/plain": [
       "0.0"
      ]
     },
     "execution_count": 82,
     "metadata": {},
     "output_type": "execute_result"
    }
   ],
   "source": [
    "f1_score(y_true=tokenized_datasets[\"test\"]['label_ids'], y_pred=prediction, average='weighted')"
   ]
  },
  {
   "cell_type": "markdown",
   "metadata": {},
   "source": [
    "#### From a Baseline\n",
    "We noticed from 1st question\n",
    "- Most common class: Appellate Review\n",
    "- Most common number of labels: 1\n",
    "\n",
    "Therefore, the baseline would be to predict everything with \"Appellate Review\""
   ]
  },
  {
   "cell_type": "code",
   "execution_count": null,
   "metadata": {},
   "outputs": [],
   "source": [
    "baseline_pred = mlb.transform([['Appellate Review']] * len(tokenized_datasets[\"test\"]))"
   ]
  },
  {
   "cell_type": "code",
   "execution_count": null,
   "metadata": {},
   "outputs": [
    {
     "data": {
      "text/plain": [
       "array([[[0, 1],\n",
       "        [0, 1]],\n",
       "\n",
       "       [[2, 0],\n",
       "        [0, 0]],\n",
       "\n",
       "       [[2, 0],\n",
       "        [0, 0]],\n",
       "\n",
       "       [[2, 0],\n",
       "        [0, 0]],\n",
       "\n",
       "       [[2, 0],\n",
       "        [0, 0]],\n",
       "\n",
       "       [[1, 0],\n",
       "        [1, 0]]], dtype=int64)"
      ]
     },
     "execution_count": 84,
     "metadata": {},
     "output_type": "execute_result"
    }
   ],
   "source": [
    "multilabel_confusion_matrix(y_true=tokenized_datasets[\"test\"]['label_ids'], y_pred=baseline_pred)"
   ]
  },
  {
   "cell_type": "code",
   "execution_count": null,
   "metadata": {},
   "outputs": [
    {
     "name": "stderr",
     "output_type": "stream",
     "text": [
      "c:\\Users\\ext.minh.triet.chau\\code\\dstest\\venv\\lib\\site-packages\\sklearn\\metrics\\_classification.py:1757: UndefinedMetricWarning: F-score is ill-defined and being set to 0.0 in labels with no true nor predicted samples. Use `zero_division` parameter to control this behavior.\n",
      "  _warn_prf(average, \"true nor predicted\", \"F-score is\", len(true_sum))\n"
     ]
    },
    {
     "data": {
      "text/plain": [
       "0.3333333333333333"
      ]
     },
     "execution_count": 85,
     "metadata": {},
     "output_type": "execute_result"
    }
   ],
   "source": [
    "f1_score(y_true=tokenized_datasets[\"test\"]['label_ids'], y_pred=baseline_pred, average='weighted')"
   ]
  }
 ],
 "metadata": {
  "kernelspec": {
   "display_name": "venv",
   "language": "python",
   "name": "python3"
  },
  "language_info": {
   "codemirror_mode": {
    "name": "ipython",
    "version": 3
   },
   "file_extension": ".py",
   "mimetype": "text/x-python",
   "name": "python",
   "nbconvert_exporter": "python",
   "pygments_lexer": "ipython3",
   "version": "3.10.9"
  }
 },
 "nbformat": 4,
 "nbformat_minor": 2
}
